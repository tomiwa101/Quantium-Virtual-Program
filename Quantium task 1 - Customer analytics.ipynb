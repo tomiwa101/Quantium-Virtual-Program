{
 "cells": [
  {
   "cell_type": "markdown",
   "id": "14e0e016",
   "metadata": {},
   "source": [
    "<h1 align='center' style='font-family:\"Trebuchet MS\",sans-serif;font-size:40px'>CHIP CATEGORY CUSTOMER ANALYTICS</h1>"
   ]
  },
  {
   "cell_type": "markdown",
   "id": "df121e11",
   "metadata": {},
   "source": [
    "## Outline\n",
    "(To go right to a certain portion of the notebook, click on any element of the outline.)\n",
    "- <a href='#0' style='text-decoration:none'>0. Objective</a>\n",
    "    - <a href='#0.1' style='text-decoration:none'>0.1 Importing Libraries</a>\n",
    "    - <a href='#0.2' style='text-decoration:none'>0.2 Data Overview</a>\n",
    "    \n",
    "\n",
    "- <a href='#1' style='text-decoration:none'>1. Data preperation phase 1(Cleaning Transaction dataset)</a>\n",
    "    - <a href='#1.1' style='text-decoration:none'>1.1 Filtering chip transaction </a>\n",
    "    - <a href='#1.2' style='text-decoration:none'>1.2 Dealing with outliers </a>\n",
    "    - <a href='#1.3' style='text-decoration:none'>1.3 Investigating the Date Dimension</a>\n",
    "    - <a href='#1.4' style='text-decoration:none'>1.4 Feature Engineering</a>\n",
    "        - <a href='#1.4.1' style='text-decoration:none'>1.4.1 Dealing with duplicate</a>\n",
    "        \n",
    "\n",
    "- <a href='#2' style='text-decoration:none'>2. Data preperation phase 2</a>\n",
    "    - <a href='#2.1' style='text-decoration:none'>2.1 Cleaning customer dataset</a>\n",
    "    - <a href='#2.2' style='text-decoration:none'>2.2 Merging transaction and customer dataset</a>\n",
    "\n",
    "\n",
    "- <a href='#3' style='text-decoration:none'>3. Data Analysis</a>\n",
    "    - <a href='#3.1' style='text-decoration:none'>3.1 Total Sales by customer segment</a>\n",
    "    - <a href='#3.2' style='text-decoration:none'>3.2 Customer Segment distribution</a>\n",
    "    - <a href='#3.3' style='text-decoration:none'>3.3 Average quantity of chips by customer segment</a>\n",
    "    - <a href='#3.4' style='text-decoration:none'>3.4 Average price spent by customer segment</a>\n",
    "    - <a href='#3.5' style='text-decoration:none'>3.5 T-test evaluation </a>\n",
    "    - <a href='#3.6' style='text-decoration:none'>3.6 Analyzing customer segment of interest </a>\n",
    "        - <a href='#3.6.1' style='text-decoration:none'>3.6.1 Brand preference </a>\n",
    "        - <a href='#3.6.2' style='text-decoration:none'>3.6.2 Packet size preference </a>\n",
    "    - <a href='#3.7' style='text-decoration:none'>3.7 Additional Insights </a>\n",
    "\n",
    "\n",
    "- <a href='#4' style='text-decoration:none'>4. Conclusion and Recommendation </a>\n",
    "    - <a href='#4.1' style='text-decoration:none'>4.1 Conclusion </a>\n",
    "    - <a href='#4.2' style='text-decoration:none'>4.2 Recommendation </a>"
   ]
  },
  {
   "cell_type": "markdown",
   "id": "5b15796e",
   "metadata": {},
   "source": [
    "# <a id='0'>0. Objective</a>"
   ]
  },
  {
   "cell_type": "markdown",
   "id": "8d173a03",
   "metadata": {},
   "source": [
    "We have been approached by the Category Manager for Chips, who wants to better understand the types of customers who purchase Chips and their purchasing behaviour within the region.\n",
    "\n",
    "The purpose of the project is to use analysis to obtain insights, which will be incorporated into the supermarket's chip category strategic plan for the next six months."
   ]
  },
  {
   "cell_type": "markdown",
   "id": "050b230f",
   "metadata": {},
   "source": [
    "## <a id='0.1'>0.1 Importing Libraries</a>"
   ]
  },
  {
   "cell_type": "code",
   "execution_count": 117,
   "id": "e199b54f",
   "metadata": {},
   "outputs": [],
   "source": [
    "# Importing Libraries for data handling\n",
    "import numpy as np\n",
    "import pandas as pd\n",
    "\n",
    "# Importing Libraries for Visualisation \n",
    "import matplotlib.pyplot as plt\n",
    "%matplotlib inline\n",
    "import seaborn as sns\n",
    "\n",
    "# Importing Library for t-test evaluation\n",
    "from scipy.stats import ttest_ind"
   ]
  },
  {
   "cell_type": "markdown",
   "id": "bddab2e4",
   "metadata": {},
   "source": [
    "## <a id='0.1'>0.1 Data Overview</a>"
   ]
  },
  {
   "cell_type": "markdown",
   "id": "9b07e14b",
   "metadata": {},
   "source": [
    "For this analysis, there are two datasets: transaction data and customer data"
   ]
  },
  {
   "cell_type": "code",
   "execution_count": 118,
   "id": "dfe6384c",
   "metadata": {},
   "outputs": [],
   "source": [
    "#load data set\n",
    "tran = pd.read_excel('QVI_transaction_data.xlsx')\n",
    "cust = pd.read_csv('QVI_purchase_behaviour.csv')"
   ]
  },
  {
   "cell_type": "code",
   "execution_count": 119,
   "id": "5e411e2f",
   "metadata": {},
   "outputs": [
    {
     "data": {
      "text/plain": [
       "(264836, 8)"
      ]
     },
     "execution_count": 119,
     "metadata": {},
     "output_type": "execute_result"
    }
   ],
   "source": [
    "# get no of rows and columns for transaction data\n",
    "tran.shape"
   ]
  },
  {
   "cell_type": "code",
   "execution_count": 120,
   "id": "2f3b2448",
   "metadata": {},
   "outputs": [
    {
     "data": {
      "text/plain": [
       "(72637, 3)"
      ]
     },
     "execution_count": 120,
     "metadata": {},
     "output_type": "execute_result"
    }
   ],
   "source": [
    "# get no of rows and columns for customer data\n",
    "cust.shape"
   ]
  },
  {
   "cell_type": "markdown",
   "id": "924b93f6",
   "metadata": {},
   "source": [
    "### Following is a brief summary of the datasets after viewing it in Excel.\n",
    "\n",
    "The raw transaction data contains 264836 rows and 8 columns\n",
    ">**DATE** - date of transaction\n",
    ">\n",
    ">**STORE_NBR** - store transaction occurred \n",
    ">\n",
    ">**LYLTY_CARD_NBR** - A unique customer ID\n",
    ">\n",
    ">**TXN_ID** - unique transaction ID\n",
    ">\n",
    ">**PROD_NAME, PROD_NBR** - product name and unique product ID\n",
    ">\n",
    ">**PROD_QTY** - quantity of product sold\n",
    ">\n",
    ">**TOT_SALES** - total amount in sales of transaction\n",
    "\n",
    "The raw customer data contains 72637 rows and 3 columns\n",
    ">**LYLTY_CARD_NBR** - A unique customer ID\n",
    ">\n",
    ">**LIFESTAGE** - identifies whether a customer has a family or not and what point in life they are at\n",
    ">\n",
    ">**PREMIUM_CUSOTOMER** - Customer classification by the price point of products they buy and the types of products they buy\n",
    "\n",
    "Both datasets have a unique customer ID, which I would be using to merge them"
   ]
  },
  {
   "cell_type": "markdown",
   "id": "3a66ba46",
   "metadata": {},
   "source": [
    "# <a id='1.'>1. Data preperation phase 1(Cleaning Transaction dataset)</a>"
   ]
  },
  {
   "cell_type": "markdown",
   "id": "f09fedee",
   "metadata": {},
   "source": [
    "I will begin the first phase of data preparation by processing the transaction dataset"
   ]
  },
  {
   "cell_type": "code",
   "execution_count": 121,
   "id": "8feb19a7",
   "metadata": {},
   "outputs": [
    {
     "data": {
      "text/html": [
       "<div>\n",
       "<style scoped>\n",
       "    .dataframe tbody tr th:only-of-type {\n",
       "        vertical-align: middle;\n",
       "    }\n",
       "\n",
       "    .dataframe tbody tr th {\n",
       "        vertical-align: top;\n",
       "    }\n",
       "\n",
       "    .dataframe thead th {\n",
       "        text-align: right;\n",
       "    }\n",
       "</style>\n",
       "<table border=\"1\" class=\"dataframe\">\n",
       "  <thead>\n",
       "    <tr style=\"text-align: right;\">\n",
       "      <th></th>\n",
       "      <th>DATE</th>\n",
       "      <th>STORE_NBR</th>\n",
       "      <th>LYLTY_CARD_NBR</th>\n",
       "      <th>TXN_ID</th>\n",
       "      <th>PROD_NBR</th>\n",
       "      <th>PROD_NAME</th>\n",
       "      <th>PROD_QTY</th>\n",
       "      <th>TOT_SALES</th>\n",
       "    </tr>\n",
       "  </thead>\n",
       "  <tbody>\n",
       "    <tr>\n",
       "      <th>0</th>\n",
       "      <td>43390</td>\n",
       "      <td>1</td>\n",
       "      <td>1000</td>\n",
       "      <td>1</td>\n",
       "      <td>5</td>\n",
       "      <td>Natural Chip        Compny SeaSalt175g</td>\n",
       "      <td>2</td>\n",
       "      <td>6.0</td>\n",
       "    </tr>\n",
       "    <tr>\n",
       "      <th>1</th>\n",
       "      <td>43599</td>\n",
       "      <td>1</td>\n",
       "      <td>1307</td>\n",
       "      <td>348</td>\n",
       "      <td>66</td>\n",
       "      <td>CCs Nacho Cheese    175g</td>\n",
       "      <td>3</td>\n",
       "      <td>6.3</td>\n",
       "    </tr>\n",
       "    <tr>\n",
       "      <th>2</th>\n",
       "      <td>43605</td>\n",
       "      <td>1</td>\n",
       "      <td>1343</td>\n",
       "      <td>383</td>\n",
       "      <td>61</td>\n",
       "      <td>Smiths Crinkle Cut  Chips Chicken 170g</td>\n",
       "      <td>2</td>\n",
       "      <td>2.9</td>\n",
       "    </tr>\n",
       "  </tbody>\n",
       "</table>\n",
       "</div>"
      ],
      "text/plain": [
       "    DATE  STORE_NBR  LYLTY_CARD_NBR  TXN_ID  PROD_NBR  \\\n",
       "0  43390          1            1000       1         5   \n",
       "1  43599          1            1307     348        66   \n",
       "2  43605          1            1343     383        61   \n",
       "\n",
       "                                PROD_NAME  PROD_QTY  TOT_SALES  \n",
       "0  Natural Chip        Compny SeaSalt175g         2        6.0  \n",
       "1                CCs Nacho Cheese    175g         3        6.3  \n",
       "2  Smiths Crinkle Cut  Chips Chicken 170g         2        2.9  "
      ]
     },
     "execution_count": 121,
     "metadata": {},
     "output_type": "execute_result"
    }
   ],
   "source": [
    "# get the first 3 records\n",
    "tran.head(3)"
   ]
  },
  {
   "cell_type": "code",
   "execution_count": 122,
   "id": "fa6e3ed2",
   "metadata": {},
   "outputs": [
    {
     "name": "stdout",
     "output_type": "stream",
     "text": [
      "<class 'pandas.core.frame.DataFrame'>\n",
      "RangeIndex: 264836 entries, 0 to 264835\n",
      "Data columns (total 8 columns):\n",
      " #   Column          Non-Null Count   Dtype  \n",
      "---  ------          --------------   -----  \n",
      " 0   DATE            264836 non-null  int64  \n",
      " 1   STORE_NBR       264836 non-null  int64  \n",
      " 2   LYLTY_CARD_NBR  264836 non-null  int64  \n",
      " 3   TXN_ID          264836 non-null  int64  \n",
      " 4   PROD_NBR        264836 non-null  int64  \n",
      " 5   PROD_NAME       264836 non-null  object \n",
      " 6   PROD_QTY        264836 non-null  int64  \n",
      " 7   TOT_SALES       264836 non-null  float64\n",
      "dtypes: float64(1), int64(6), object(1)\n",
      "memory usage: 16.2+ MB\n"
     ]
    }
   ],
   "source": [
    "# get general info\n",
    "tran.info()"
   ]
  },
  {
   "cell_type": "markdown",
   "id": "f5711618",
   "metadata": {},
   "source": [
    "The date field is incorrectly formatted for some reason. Its data value (43390) appears to be an excel (int) data format denoting days after a base date (1899-12-30), therefore I will convert it to a datetime object."
   ]
  },
  {
   "cell_type": "code",
   "execution_count": 123,
   "id": "f1f8b142",
   "metadata": {},
   "outputs": [],
   "source": [
    "# set base_date to 1899-12-30\n",
    "base_date = pd.Timestamp('1899-12-30')"
   ]
  },
  {
   "cell_type": "code",
   "execution_count": 124,
   "id": "7d5f3d74",
   "metadata": {},
   "outputs": [],
   "source": [
    "# create a function that converts integer to datetime\n",
    "def int_to_date(date):\n",
    "    date = base_date + pd.DateOffset(date)\n",
    "    return date"
   ]
  },
  {
   "cell_type": "code",
   "execution_count": 125,
   "id": "0468544f",
   "metadata": {},
   "outputs": [],
   "source": [
    "# apply this function to the date column to convert it\n",
    "tran['DATE'] = tran['DATE'].apply(int_to_date)"
   ]
  },
  {
   "cell_type": "markdown",
   "id": "a71f507a",
   "metadata": {},
   "source": [
    "Now I'm going to create additional date columns, such as month and day of the week , that I believe will aid my analysis."
   ]
  },
  {
   "cell_type": "code",
   "execution_count": 126,
   "id": "fa7e3e1e",
   "metadata": {},
   "outputs": [],
   "source": [
    "# create new month and day of week features using datetime attributes\n",
    "tran['MONTH'] = tran['DATE'].apply(lambda time: time.month)\n",
    "tran['DAY_OF_WEEK'] = tran['DATE'].apply(lambda time: time.dayofweek)"
   ]
  },
  {
   "cell_type": "code",
   "execution_count": 127,
   "id": "cd5cf6d2",
   "metadata": {},
   "outputs": [
    {
     "data": {
      "text/html": [
       "<div>\n",
       "<style scoped>\n",
       "    .dataframe tbody tr th:only-of-type {\n",
       "        vertical-align: middle;\n",
       "    }\n",
       "\n",
       "    .dataframe tbody tr th {\n",
       "        vertical-align: top;\n",
       "    }\n",
       "\n",
       "    .dataframe thead th {\n",
       "        text-align: right;\n",
       "    }\n",
       "</style>\n",
       "<table border=\"1\" class=\"dataframe\">\n",
       "  <thead>\n",
       "    <tr style=\"text-align: right;\">\n",
       "      <th></th>\n",
       "      <th>DATE</th>\n",
       "      <th>STORE_NBR</th>\n",
       "      <th>LYLTY_CARD_NBR</th>\n",
       "      <th>TXN_ID</th>\n",
       "      <th>PROD_NBR</th>\n",
       "      <th>PROD_NAME</th>\n",
       "      <th>PROD_QTY</th>\n",
       "      <th>TOT_SALES</th>\n",
       "      <th>MONTH</th>\n",
       "      <th>DAY_OF_WEEK</th>\n",
       "    </tr>\n",
       "  </thead>\n",
       "  <tbody>\n",
       "    <tr>\n",
       "      <th>0</th>\n",
       "      <td>2018-10-17</td>\n",
       "      <td>1</td>\n",
       "      <td>1000</td>\n",
       "      <td>1</td>\n",
       "      <td>5</td>\n",
       "      <td>Natural Chip        Compny SeaSalt175g</td>\n",
       "      <td>2</td>\n",
       "      <td>6.0</td>\n",
       "      <td>10</td>\n",
       "      <td>2</td>\n",
       "    </tr>\n",
       "    <tr>\n",
       "      <th>1</th>\n",
       "      <td>2019-05-14</td>\n",
       "      <td>1</td>\n",
       "      <td>1307</td>\n",
       "      <td>348</td>\n",
       "      <td>66</td>\n",
       "      <td>CCs Nacho Cheese    175g</td>\n",
       "      <td>3</td>\n",
       "      <td>6.3</td>\n",
       "      <td>5</td>\n",
       "      <td>1</td>\n",
       "    </tr>\n",
       "    <tr>\n",
       "      <th>2</th>\n",
       "      <td>2019-05-20</td>\n",
       "      <td>1</td>\n",
       "      <td>1343</td>\n",
       "      <td>383</td>\n",
       "      <td>61</td>\n",
       "      <td>Smiths Crinkle Cut  Chips Chicken 170g</td>\n",
       "      <td>2</td>\n",
       "      <td>2.9</td>\n",
       "      <td>5</td>\n",
       "      <td>0</td>\n",
       "    </tr>\n",
       "  </tbody>\n",
       "</table>\n",
       "</div>"
      ],
      "text/plain": [
       "        DATE  STORE_NBR  LYLTY_CARD_NBR  TXN_ID  PROD_NBR  \\\n",
       "0 2018-10-17          1            1000       1         5   \n",
       "1 2019-05-14          1            1307     348        66   \n",
       "2 2019-05-20          1            1343     383        61   \n",
       "\n",
       "                                PROD_NAME  PROD_QTY  TOT_SALES  MONTH  \\\n",
       "0  Natural Chip        Compny SeaSalt175g         2        6.0     10   \n",
       "1                CCs Nacho Cheese    175g         3        6.3      5   \n",
       "2  Smiths Crinkle Cut  Chips Chicken 170g         2        2.9      5   \n",
       "\n",
       "   DAY_OF_WEEK  \n",
       "0            2  \n",
       "1            1  \n",
       "2            0  "
      ]
     },
     "execution_count": 127,
     "metadata": {},
     "output_type": "execute_result"
    }
   ],
   "source": [
    "# check tran dataframe\n",
    "tran.head(3)"
   ]
  },
  {
   "cell_type": "markdown",
   "id": "902deef1",
   "metadata": {},
   "source": [
    "All columns had 264836 entries in the .info() method. However, I would utilize the .isnull() function to ensure that there are no missing values."
   ]
  },
  {
   "cell_type": "code",
   "execution_count": 128,
   "id": "0905fc35",
   "metadata": {},
   "outputs": [
    {
     "data": {
      "text/plain": [
       "DATE              0\n",
       "STORE_NBR         0\n",
       "LYLTY_CARD_NBR    0\n",
       "TXN_ID            0\n",
       "PROD_NBR          0\n",
       "PROD_NAME         0\n",
       "PROD_QTY          0\n",
       "TOT_SALES         0\n",
       "MONTH             0\n",
       "DAY_OF_WEEK       0\n",
       "dtype: int64"
      ]
     },
     "execution_count": 128,
     "metadata": {},
     "output_type": "execute_result"
    }
   ],
   "source": [
    "tran.isnull().sum()"
   ]
  },
  {
   "cell_type": "markdown",
   "id": "8a16f1d0",
   "metadata": {},
   "source": [
    "Great! There are no missing values"
   ]
  },
  {
   "cell_type": "markdown",
   "id": "6ebe1402",
   "metadata": {},
   "source": [
    "## <a id='1.1'>1.1 Filtering out chip transactions</a>"
   ]
  },
  {
   "cell_type": "markdown",
   "id": "ddc0ff83",
   "metadata": {},
   "source": [
    "Because I'm only interested in chip transactions, I'll need to look at the product name column to filter them out."
   ]
  },
  {
   "cell_type": "code",
   "execution_count": 129,
   "id": "432ea5f5",
   "metadata": {},
   "outputs": [
    {
     "data": {
      "text/plain": [
       "0      Natural Chip        Compny SeaSalt175g\n",
       "1                    CCs Nacho Cheese    175g\n",
       "2      Smiths Crinkle Cut  Chips Chicken 170g\n",
       "3      Smiths Chip Thinly  S/Cream&Onion 175g\n",
       "4    Kettle Tortilla ChpsHny&Jlpno Chili 150g\n",
       "5    Old El Paso Salsa   Dip Tomato Mild 300g\n",
       "6    Smiths Crinkle Chips Salt & Vinegar 330g\n",
       "7       Grain Waves         Sweet Chilli 210g\n",
       "8     Doritos Corn Chip Mexican Jalapeno 150g\n",
       "9       Grain Waves Sour    Cream&Chives 210G\n",
       "Name: PROD_NAME, dtype: object"
      ]
     },
     "execution_count": 129,
     "metadata": {},
     "output_type": "execute_result"
    }
   ],
   "source": [
    "# get first 10 values in prod_name column\n",
    "tran['PROD_NAME'].head(10)"
   ]
  },
  {
   "cell_type": "code",
   "execution_count": 130,
   "id": "72df687e",
   "metadata": {},
   "outputs": [
    {
     "data": {
      "text/plain": [
       "114"
      ]
     },
     "execution_count": 130,
     "metadata": {},
     "output_type": "execute_result"
    }
   ],
   "source": [
    "len(tran['PROD_NAME'].unique())"
   ]
  },
  {
   "cell_type": "markdown",
   "id": "54f4d88b",
   "metadata": {},
   "source": [
    "There are 114 different product names so it would be difficult to know all of the real chip products right away. To obtain a clearer picture, I'll make a histogram of all of the words in the product name column and store it in a dictionary."
   ]
  },
  {
   "cell_type": "code",
   "execution_count": 131,
   "id": "216ff0e5",
   "metadata": {},
   "outputs": [],
   "source": [
    "# create empty dictionary\n",
    "prod_hist = dict()\n",
    "\n",
    "#create word historgam\n",
    "for prod in tran['PROD_NAME'].unique():\n",
    "    prod = prod.split()\n",
    "    for value in prod:\n",
    "        # remove words starting with numbers and special characters\n",
    "        if value[0] in ['0','1','2','3','4','5','6','7','8','9']: continue\n",
    "        if value == '&': continue\n",
    "        prod_hist[value] = prod_hist.get(value, 0) + 1"
   ]
  },
  {
   "cell_type": "code",
   "execution_count": 132,
   "id": "b7cb440f",
   "metadata": {},
   "outputs": [
    {
     "data": {
      "text/html": [
       "<div>\n",
       "<style scoped>\n",
       "    .dataframe tbody tr th:only-of-type {\n",
       "        vertical-align: middle;\n",
       "    }\n",
       "\n",
       "    .dataframe tbody tr th {\n",
       "        vertical-align: top;\n",
       "    }\n",
       "\n",
       "    .dataframe thead th {\n",
       "        text-align: right;\n",
       "    }\n",
       "</style>\n",
       "<table border=\"1\" class=\"dataframe\">\n",
       "  <thead>\n",
       "    <tr style=\"text-align: right;\">\n",
       "      <th></th>\n",
       "      <th>word</th>\n",
       "      <th>count</th>\n",
       "    </tr>\n",
       "  </thead>\n",
       "  <tbody>\n",
       "    <tr>\n",
       "      <th>10</th>\n",
       "      <td>Chips</td>\n",
       "      <td>21</td>\n",
       "    </tr>\n",
       "    <tr>\n",
       "      <th>7</th>\n",
       "      <td>Smiths</td>\n",
       "      <td>16</td>\n",
       "    </tr>\n",
       "    <tr>\n",
       "      <th>9</th>\n",
       "      <td>Cut</td>\n",
       "      <td>14</td>\n",
       "    </tr>\n",
       "    <tr>\n",
       "      <th>8</th>\n",
       "      <td>Crinkle</td>\n",
       "      <td>14</td>\n",
       "    </tr>\n",
       "    <tr>\n",
       "      <th>14</th>\n",
       "      <td>Kettle</td>\n",
       "      <td>13</td>\n",
       "    </tr>\n",
       "    <tr>\n",
       "      <th>6</th>\n",
       "      <td>Cheese</td>\n",
       "      <td>12</td>\n",
       "    </tr>\n",
       "    <tr>\n",
       "      <th>25</th>\n",
       "      <td>Salt</td>\n",
       "      <td>12</td>\n",
       "    </tr>\n",
       "    <tr>\n",
       "      <th>45</th>\n",
       "      <td>Original</td>\n",
       "      <td>10</td>\n",
       "    </tr>\n",
       "    <tr>\n",
       "      <th>1</th>\n",
       "      <td>Chip</td>\n",
       "      <td>9</td>\n",
       "    </tr>\n",
       "    <tr>\n",
       "      <th>21</th>\n",
       "      <td>Salsa</td>\n",
       "      <td>9</td>\n",
       "    </tr>\n",
       "    <tr>\n",
       "      <th>31</th>\n",
       "      <td>Doritos</td>\n",
       "      <td>9</td>\n",
       "    </tr>\n",
       "    <tr>\n",
       "      <th>66</th>\n",
       "      <td>Pringles</td>\n",
       "      <td>8</td>\n",
       "    </tr>\n",
       "    <tr>\n",
       "      <th>134</th>\n",
       "      <td>RRD</td>\n",
       "      <td>8</td>\n",
       "    </tr>\n",
       "    <tr>\n",
       "      <th>32</th>\n",
       "      <td>Corn</td>\n",
       "      <td>8</td>\n",
       "    </tr>\n",
       "    <tr>\n",
       "      <th>11</th>\n",
       "      <td>Chicken</td>\n",
       "      <td>7</td>\n",
       "    </tr>\n",
       "    <tr>\n",
       "      <th>41</th>\n",
       "      <td>WW</td>\n",
       "      <td>7</td>\n",
       "    </tr>\n",
       "    <tr>\n",
       "      <th>35</th>\n",
       "      <td>Sour</td>\n",
       "      <td>6</td>\n",
       "    </tr>\n",
       "    <tr>\n",
       "      <th>59</th>\n",
       "      <td>Sea</td>\n",
       "      <td>6</td>\n",
       "    </tr>\n",
       "    <tr>\n",
       "      <th>42</th>\n",
       "      <td>Thins</td>\n",
       "      <td>5</td>\n",
       "    </tr>\n",
       "    <tr>\n",
       "      <th>112</th>\n",
       "      <td>Crisps</td>\n",
       "      <td>5</td>\n",
       "    </tr>\n",
       "  </tbody>\n",
       "</table>\n",
       "</div>"
      ],
      "text/plain": [
       "         word  count\n",
       "10      Chips     21\n",
       "7      Smiths     16\n",
       "9         Cut     14\n",
       "8     Crinkle     14\n",
       "14     Kettle     13\n",
       "6      Cheese     12\n",
       "25       Salt     12\n",
       "45   Original     10\n",
       "1        Chip      9\n",
       "21      Salsa      9\n",
       "31    Doritos      9\n",
       "66   Pringles      8\n",
       "134       RRD      8\n",
       "32       Corn      8\n",
       "11    Chicken      7\n",
       "41         WW      7\n",
       "35       Sour      6\n",
       "59        Sea      6\n",
       "42      Thins      5\n",
       "112    Crisps      5"
      ]
     },
     "execution_count": 132,
     "metadata": {},
     "output_type": "execute_result"
    }
   ],
   "source": [
    "# insert dict into df and sort by count to get the most common words\n",
    "word_df = pd.Series(prod_hist).reset_index()\n",
    "word_df.rename({'index':'word', 0:'count'}, axis=1, inplace=True)\n",
    "word_df.sort_values(by='count', ascending=False).head(20)"
   ]
  },
  {
   "cell_type": "markdown",
   "id": "eb00f723",
   "metadata": {},
   "source": [
    "There are many words, but I'm particularly interested in crucial words that have a meaning that differ from that of a chip. Salsa and chip, for example, should not be used in the same product name because they have different meanings. But first, let's look at the names that contain the term 'Salsa.'"
   ]
  },
  {
   "cell_type": "code",
   "execution_count": 133,
   "id": "71a89a53",
   "metadata": {},
   "outputs": [
    {
     "data": {
      "text/plain": [
       "18094"
      ]
     },
     "execution_count": 133,
     "metadata": {},
     "output_type": "execute_result"
    }
   ],
   "source": [
    "salsa_df = tran[tran['PROD_NAME'].str.contains('Salsa', regex=False)]\n",
    "len(salsa_df)"
   ]
  },
  {
   "cell_type": "code",
   "execution_count": 134,
   "id": "b228026e",
   "metadata": {},
   "outputs": [
    {
     "data": {
      "text/plain": [
       "array(['Old El Paso Salsa   Dip Tomato Mild 300g',\n",
       "       'Red Rock Deli SR    Salsa & Mzzrlla 150g',\n",
       "       'Smiths Crinkle Cut  Tomato Salsa 150g',\n",
       "       'Doritos Salsa       Medium 300g',\n",
       "       'Old El Paso Salsa   Dip Chnky Tom Ht300g',\n",
       "       'Woolworths Mild     Salsa 300g',\n",
       "       'Old El Paso Salsa   Dip Tomato Med 300g',\n",
       "       'Woolworths Medium   Salsa 300g', 'Doritos Salsa Mild  300g'],\n",
       "      dtype=object)"
      ]
     },
     "execution_count": 134,
     "metadata": {},
     "output_type": "execute_result"
    }
   ],
   "source": [
    "salsa_df['PROD_NAME'].unique()"
   ]
  },
  {
   "cell_type": "markdown",
   "id": "2c7cbfd9",
   "metadata": {},
   "source": [
    "All of these products are definitely not chips, hence I'd get rid of them."
   ]
  },
  {
   "cell_type": "code",
   "execution_count": 135,
   "id": "ea4e3ac0",
   "metadata": {},
   "outputs": [],
   "source": [
    "# remove non-chip transactions\n",
    "chip_df = tran[~tran['PROD_NAME'].str.contains('Salsa', regex=False)]"
   ]
  },
  {
   "cell_type": "code",
   "execution_count": 136,
   "id": "a4234d02",
   "metadata": {},
   "outputs": [
    {
     "data": {
      "text/plain": [
       "(246742, 10)"
      ]
     },
     "execution_count": 136,
     "metadata": {},
     "output_type": "execute_result"
    }
   ],
   "source": [
    "chip_df.shape\n",
    "# no of rows has reduced, so action was successful"
   ]
  },
  {
   "cell_type": "markdown",
   "id": "00ddb51d",
   "metadata": {},
   "source": [
    "## <a id='1.2'>1.2 Dealing with Outliers</a>\n",
    "\n",
    "I would like to get the mean, min, and max values for both the product quantity and total sales columns before I look for outliers."
   ]
  },
  {
   "cell_type": "code",
   "execution_count": 137,
   "id": "89da5c82",
   "metadata": {},
   "outputs": [
    {
     "data": {
      "text/html": [
       "<div>\n",
       "<style scoped>\n",
       "    .dataframe tbody tr th:only-of-type {\n",
       "        vertical-align: middle;\n",
       "    }\n",
       "\n",
       "    .dataframe tbody tr th {\n",
       "        vertical-align: top;\n",
       "    }\n",
       "\n",
       "    .dataframe thead th {\n",
       "        text-align: right;\n",
       "    }\n",
       "</style>\n",
       "<table border=\"1\" class=\"dataframe\">\n",
       "  <thead>\n",
       "    <tr style=\"text-align: right;\">\n",
       "      <th></th>\n",
       "      <th>count</th>\n",
       "      <th>mean</th>\n",
       "      <th>min</th>\n",
       "      <th>max</th>\n",
       "      <th>median</th>\n",
       "    </tr>\n",
       "  </thead>\n",
       "  <tbody>\n",
       "    <tr>\n",
       "      <th>PROD_QTY</th>\n",
       "      <td>246742.0</td>\n",
       "      <td>1.908062</td>\n",
       "      <td>1.0</td>\n",
       "      <td>200.0</td>\n",
       "      <td>2.0</td>\n",
       "    </tr>\n",
       "    <tr>\n",
       "      <th>TOT_SALES</th>\n",
       "      <td>246742.0</td>\n",
       "      <td>7.321322</td>\n",
       "      <td>1.7</td>\n",
       "      <td>650.0</td>\n",
       "      <td>7.4</td>\n",
       "    </tr>\n",
       "  </tbody>\n",
       "</table>\n",
       "</div>"
      ],
      "text/plain": [
       "              count      mean  min    max  median\n",
       "PROD_QTY   246742.0  1.908062  1.0  200.0     2.0\n",
       "TOT_SALES  246742.0  7.321322  1.7  650.0     7.4"
      ]
     },
     "execution_count": 137,
     "metadata": {},
     "output_type": "execute_result"
    }
   ],
   "source": [
    "# check summary of continuos variables\n",
    "chip_df.describe()[['PROD_QTY','TOT_SALES']].T[['count','mean','min','max', '50%']].rename({'50%':'median'}, axis=1)"
   ]
  },
  {
   "cell_type": "markdown",
   "id": "c7f72a72",
   "metadata": {},
   "source": [
    "Both maximum values are much greater than their respective central values (mean & median), which could indicate presence of outliers, but I'd look into it further by producing a boxplot of these continuous variables."
   ]
  },
  {
   "cell_type": "code",
   "execution_count": 138,
   "id": "1c52427a",
   "metadata": {
    "scrolled": true
   },
   "outputs": [
    {
     "data": {
      "text/plain": [
       "<AxesSubplot:ylabel='PROD_QTY'>"
      ]
     },
     "execution_count": 138,
     "metadata": {},
     "output_type": "execute_result"
    },
    {
     "data": {
      "image/png": "[encoded data removed]",
      "text/plain": [
       "<Figure size 432x288 with 1 Axes>"
      ]
     },
     "metadata": {
      "needs_background": "light"
     },
     "output_type": "display_data"
    }
   ],
   "source": [
    "sns.boxplot(y='PROD_QTY', data = chip_df)"
   ]
  },
  {
   "cell_type": "code",
   "execution_count": 139,
   "id": "ba24bb28",
   "metadata": {},
   "outputs": [
    {
     "data": {
      "text/plain": [
       "<AxesSubplot:ylabel='TOT_SALES'>"
      ]
     },
     "execution_count": 139,
     "metadata": {},
     "output_type": "execute_result"
    },
    {
     "data": {
      "image/png": "[encoded data removed]",
      "text/plain": [
       "<Figure size 432x288 with 1 Axes>"
      ]
     },
     "metadata": {
      "needs_background": "light"
     },
     "output_type": "display_data"
    }
   ],
   "source": [
    "sns.boxplot(y='TOT_SALES', data = chip_df)"
   ]
  },
  {
   "cell_type": "markdown",
   "id": "dee29ee0",
   "metadata": {},
   "source": [
    "There are definitely outliers now lets remove them from the data set"
   ]
  },
  {
   "cell_type": "code",
   "execution_count": 140,
   "id": "05fe34b9",
   "metadata": {},
   "outputs": [
    {
     "data": {
      "text/html": [
       "<div>\n",
       "<style scoped>\n",
       "    .dataframe tbody tr th:only-of-type {\n",
       "        vertical-align: middle;\n",
       "    }\n",
       "\n",
       "    .dataframe tbody tr th {\n",
       "        vertical-align: top;\n",
       "    }\n",
       "\n",
       "    .dataframe thead th {\n",
       "        text-align: right;\n",
       "    }\n",
       "</style>\n",
       "<table border=\"1\" class=\"dataframe\">\n",
       "  <thead>\n",
       "    <tr style=\"text-align: right;\">\n",
       "      <th></th>\n",
       "      <th>DATE</th>\n",
       "      <th>STORE_NBR</th>\n",
       "      <th>LYLTY_CARD_NBR</th>\n",
       "      <th>TXN_ID</th>\n",
       "      <th>PROD_NBR</th>\n",
       "      <th>PROD_NAME</th>\n",
       "      <th>PROD_QTY</th>\n",
       "      <th>TOT_SALES</th>\n",
       "      <th>MONTH</th>\n",
       "      <th>DAY_OF_WEEK</th>\n",
       "    </tr>\n",
       "  </thead>\n",
       "  <tbody>\n",
       "    <tr>\n",
       "      <th>69762</th>\n",
       "      <td>2018-08-19</td>\n",
       "      <td>226</td>\n",
       "      <td>226000</td>\n",
       "      <td>226201</td>\n",
       "      <td>4</td>\n",
       "      <td>Dorito Corn Chp     Supreme 380g</td>\n",
       "      <td>200</td>\n",
       "      <td>650.0</td>\n",
       "      <td>8</td>\n",
       "      <td>6</td>\n",
       "    </tr>\n",
       "    <tr>\n",
       "      <th>69763</th>\n",
       "      <td>2019-05-20</td>\n",
       "      <td>226</td>\n",
       "      <td>226000</td>\n",
       "      <td>226210</td>\n",
       "      <td>4</td>\n",
       "      <td>Dorito Corn Chp     Supreme 380g</td>\n",
       "      <td>200</td>\n",
       "      <td>650.0</td>\n",
       "      <td>5</td>\n",
       "      <td>0</td>\n",
       "    </tr>\n",
       "  </tbody>\n",
       "</table>\n",
       "</div>"
      ],
      "text/plain": [
       "            DATE  STORE_NBR  LYLTY_CARD_NBR  TXN_ID  PROD_NBR  \\\n",
       "69762 2018-08-19        226          226000  226201         4   \n",
       "69763 2019-05-20        226          226000  226210         4   \n",
       "\n",
       "                              PROD_NAME  PROD_QTY  TOT_SALES  MONTH  \\\n",
       "69762  Dorito Corn Chp     Supreme 380g       200      650.0      8   \n",
       "69763  Dorito Corn Chp     Supreme 380g       200      650.0      5   \n",
       "\n",
       "       DAY_OF_WEEK  \n",
       "69762            6  \n",
       "69763            0  "
      ]
     },
     "execution_count": 140,
     "metadata": {},
     "output_type": "execute_result"
    }
   ],
   "source": [
    "chip_df[(chip_df['PROD_QTY'] > 100) | (chip_df['TOT_SALES'] > 400)]"
   ]
  },
  {
   "cell_type": "code",
   "execution_count": 141,
   "id": "79c6fdea",
   "metadata": {},
   "outputs": [
    {
     "data": {
      "text/plain": [
       "2"
      ]
     },
     "execution_count": 141,
     "metadata": {},
     "output_type": "execute_result"
    }
   ],
   "source": [
    "# check how transaction this customer made\n",
    "sum(chip_df['LYLTY_CARD_NBR'] == 226000)"
   ]
  },
  {
   "cell_type": "markdown",
   "id": "b66745b3",
   "metadata": {},
   "source": [
    "This customer had only two transactions; he or she most likely purchased it for a one-time event that would not occur on a regular basis, so I will proceed to delete the two transactions."
   ]
  },
  {
   "cell_type": "code",
   "execution_count": 142,
   "id": "ddaf75d3",
   "metadata": {},
   "outputs": [],
   "source": [
    "outlier_index = chip_df[(chip_df['PROD_QTY'] > 100) | (chip_df['TOT_SALES'] > 400)].index"
   ]
  },
  {
   "cell_type": "code",
   "execution_count": 143,
   "id": "3d5620ef",
   "metadata": {},
   "outputs": [],
   "source": [
    "chip_df = chip_df.drop(outlier_index)"
   ]
  },
  {
   "cell_type": "code",
   "execution_count": 144,
   "id": "25b6d472",
   "metadata": {},
   "outputs": [
    {
     "data": {
      "text/plain": [
       "<AxesSubplot:ylabel='PROD_QTY'>"
      ]
     },
     "execution_count": 144,
     "metadata": {},
     "output_type": "execute_result"
    },
    {
     "data": {
      "image/png": "[encoded data removed]",
      "text/plain": [
       "<Figure size 432x288 with 1 Axes>"
      ]
     },
     "metadata": {
      "needs_background": "light"
     },
     "output_type": "display_data"
    }
   ],
   "source": [
    "# lets check the box plot again\n",
    "sns.boxplot(y='PROD_QTY', data = chip_df)"
   ]
  },
  {
   "cell_type": "markdown",
   "id": "7a7abdea",
   "metadata": {},
   "source": [
    "It seems that 97 percent of the values in the PROD QTY column are 2.0, which is why 1,3,4,5 appear as outliers even though the range (1-5) is not large."
   ]
  },
  {
   "cell_type": "markdown",
   "id": "335eea9d",
   "metadata": {},
   "source": [
    "## <a id='1.3'>1.3 Investigating the Date dimension</a>"
   ]
  },
  {
   "cell_type": "code",
   "execution_count": 145,
   "id": "2b60c43b",
   "metadata": {},
   "outputs": [
    {
     "data": {
      "text/plain": [
       "364"
      ]
     },
     "execution_count": 145,
     "metadata": {},
     "output_type": "execute_result"
    }
   ],
   "source": [
    "# no of unique dates\n",
    "chip_df['DATE'].nunique()\n",
    "# It is just one day short of being a year. Let's check the date range"
   ]
  },
  {
   "cell_type": "code",
   "execution_count": 146,
   "id": "0050d102",
   "metadata": {},
   "outputs": [
    {
     "data": {
      "text/plain": [
       "9161     2018-07-01\n",
       "155442   2018-07-01\n",
       "181349   2018-07-01\n",
       "229948   2018-07-01\n",
       "104647   2018-07-01\n",
       "            ...    \n",
       "10254    2019-06-30\n",
       "113220   2019-06-30\n",
       "229182   2019-06-30\n",
       "229015   2019-06-30\n",
       "262768   2019-06-30\n",
       "Name: DATE, Length: 246740, dtype: datetime64[ns]"
      ]
     },
     "execution_count": 146,
     "metadata": {},
     "output_type": "execute_result"
    }
   ],
   "source": [
    "chip_df['DATE'].sort_values()"
   ]
  },
  {
   "cell_type": "markdown",
   "id": "f8dd0a87",
   "metadata": {},
   "source": [
    "The period ran from July 1, 2018 to June 30, 2019. I need to find the missing date. To achieve this, I'd make a date sequence for this time period and join it with the groupby date dataframe."
   ]
  },
  {
   "cell_type": "code",
   "execution_count": 147,
   "id": "5fb85f76",
   "metadata": {},
   "outputs": [],
   "source": [
    "date_group = chip_df.groupby('DATE').count()['PROD_QTY'].reset_index().rename({'PROD_QTY':'Count'}, axis=1)"
   ]
  },
  {
   "cell_type": "code",
   "execution_count": 148,
   "id": "3531b6c2",
   "metadata": {},
   "outputs": [],
   "source": [
    "dt_range = pd.date_range('2018-07-01', periods=365, freq='D')"
   ]
  },
  {
   "cell_type": "code",
   "execution_count": 149,
   "id": "c4556e8c",
   "metadata": {},
   "outputs": [],
   "source": [
    "comp_date = pd.DataFrame({'DATE':dt_range, 'Place_holder':0})"
   ]
  },
  {
   "cell_type": "code",
   "execution_count": 150,
   "id": "bfe5708e",
   "metadata": {},
   "outputs": [
    {
     "data": {
      "text/html": [
       "<div>\n",
       "<style scoped>\n",
       "    .dataframe tbody tr th:only-of-type {\n",
       "        vertical-align: middle;\n",
       "    }\n",
       "\n",
       "    .dataframe tbody tr th {\n",
       "        vertical-align: top;\n",
       "    }\n",
       "\n",
       "    .dataframe thead th {\n",
       "        text-align: right;\n",
       "    }\n",
       "</style>\n",
       "<table border=\"1\" class=\"dataframe\">\n",
       "  <thead>\n",
       "    <tr style=\"text-align: right;\">\n",
       "      <th></th>\n",
       "      <th>DATE</th>\n",
       "      <th>Place_holder</th>\n",
       "      <th>Count</th>\n",
       "    </tr>\n",
       "  </thead>\n",
       "  <tbody>\n",
       "    <tr>\n",
       "      <th>0</th>\n",
       "      <td>2018-07-01</td>\n",
       "      <td>0</td>\n",
       "      <td>663.0</td>\n",
       "    </tr>\n",
       "    <tr>\n",
       "      <th>1</th>\n",
       "      <td>2018-07-02</td>\n",
       "      <td>0</td>\n",
       "      <td>650.0</td>\n",
       "    </tr>\n",
       "    <tr>\n",
       "      <th>2</th>\n",
       "      <td>2018-07-03</td>\n",
       "      <td>0</td>\n",
       "      <td>674.0</td>\n",
       "    </tr>\n",
       "    <tr>\n",
       "      <th>3</th>\n",
       "      <td>2018-07-04</td>\n",
       "      <td>0</td>\n",
       "      <td>669.0</td>\n",
       "    </tr>\n",
       "    <tr>\n",
       "      <th>4</th>\n",
       "      <td>2018-07-05</td>\n",
       "      <td>0</td>\n",
       "      <td>660.0</td>\n",
       "    </tr>\n",
       "    <tr>\n",
       "      <th>...</th>\n",
       "      <td>...</td>\n",
       "      <td>...</td>\n",
       "      <td>...</td>\n",
       "    </tr>\n",
       "    <tr>\n",
       "      <th>360</th>\n",
       "      <td>2019-06-26</td>\n",
       "      <td>0</td>\n",
       "      <td>657.0</td>\n",
       "    </tr>\n",
       "    <tr>\n",
       "      <th>361</th>\n",
       "      <td>2019-06-27</td>\n",
       "      <td>0</td>\n",
       "      <td>669.0</td>\n",
       "    </tr>\n",
       "    <tr>\n",
       "      <th>362</th>\n",
       "      <td>2019-06-28</td>\n",
       "      <td>0</td>\n",
       "      <td>673.0</td>\n",
       "    </tr>\n",
       "    <tr>\n",
       "      <th>363</th>\n",
       "      <td>2019-06-29</td>\n",
       "      <td>0</td>\n",
       "      <td>703.0</td>\n",
       "    </tr>\n",
       "    <tr>\n",
       "      <th>364</th>\n",
       "      <td>2019-06-30</td>\n",
       "      <td>0</td>\n",
       "      <td>704.0</td>\n",
       "    </tr>\n",
       "  </tbody>\n",
       "</table>\n",
       "<p>365 rows × 3 columns</p>\n",
       "</div>"
      ],
      "text/plain": [
       "          DATE  Place_holder  Count\n",
       "0   2018-07-01             0  663.0\n",
       "1   2018-07-02             0  650.0\n",
       "2   2018-07-03             0  674.0\n",
       "3   2018-07-04             0  669.0\n",
       "4   2018-07-05             0  660.0\n",
       "..         ...           ...    ...\n",
       "360 2019-06-26             0  657.0\n",
       "361 2019-06-27             0  669.0\n",
       "362 2019-06-28             0  673.0\n",
       "363 2019-06-29             0  703.0\n",
       "364 2019-06-30             0  704.0\n",
       "\n",
       "[365 rows x 3 columns]"
      ]
     },
     "execution_count": 150,
     "metadata": {},
     "output_type": "execute_result"
    }
   ],
   "source": [
    "merged_date = pd.merge(comp_date, date_group, on=['DATE'], how='left')\n",
    "merged_date"
   ]
  },
  {
   "cell_type": "code",
   "execution_count": 151,
   "id": "140e5de7",
   "metadata": {},
   "outputs": [
    {
     "data": {
      "image/png": "[encoded data removed]",
      "text/plain": [
       "<Figure size 1440x720 with 1 Axes>"
      ]
     },
     "metadata": {
      "needs_background": "light"
     },
     "output_type": "display_data"
    }
   ],
   "source": [
    "plt.figure(figsize = (20,10))\n",
    "plt.plot(merged_date['DATE'], merged_date['Count'])\n",
    "plt.ylabel('Transaction count', size=15)\n",
    "plt.xlabel('Date', size=15)\n",
    "plt.title('Transaction over time', size=20)\n",
    "plt.show()"
   ]
  },
  {
   "cell_type": "markdown",
   "id": "272e651d",
   "metadata": {},
   "source": [
    "The number of transations increased greatlt just before the plot's break in December. Let's take a closer look at the plot for just December."
   ]
  },
  {
   "cell_type": "code",
   "execution_count": 152,
   "id": "4fbdceaa",
   "metadata": {},
   "outputs": [
    {
     "data": {
      "image/png": "[encoded data removed]",
      "text/plain": [
       "<Figure size 1440x720 with 1 Axes>"
      ]
     },
     "metadata": {
      "needs_background": "light"
     },
     "output_type": "display_data"
    }
   ],
   "source": [
    "plt.figure(figsize = (20,10))\n",
    "x = merged_date[merged_date['DATE'].apply(lambda time: time.month) == 12]['DATE']\n",
    "y = merged_date[merged_date['DATE'].apply(lambda time: time.month) == 12]['Count']\n",
    "plt.plot(x,y)\n",
    "plt.ylabel('Transaction count', size=15)\n",
    "plt.xlabel('Date', size=15)\n",
    "plt.title('Transaction count in December', size=20)\n",
    "plt.show()"
   ]
  },
  {
   "cell_type": "markdown",
   "id": "8758c84f",
   "metadata": {},
   "source": [
    "The number of transactions surged just before Christmas. According to the plot, there were no transactions on 2018-12-25 (Christmas Day), which makes sense given that we expect increased purchases over the holidays and no sales on Christmas Day due to store closures."
   ]
  },
  {
   "cell_type": "code",
   "execution_count": 153,
   "id": "cd529dd5",
   "metadata": {},
   "outputs": [
    {
     "data": {
      "text/html": [
       "<div>\n",
       "<style scoped>\n",
       "    .dataframe tbody tr th:only-of-type {\n",
       "        vertical-align: middle;\n",
       "    }\n",
       "\n",
       "    .dataframe tbody tr th {\n",
       "        vertical-align: top;\n",
       "    }\n",
       "\n",
       "    .dataframe thead th {\n",
       "        text-align: right;\n",
       "    }\n",
       "</style>\n",
       "<table border=\"1\" class=\"dataframe\">\n",
       "  <thead>\n",
       "    <tr style=\"text-align: right;\">\n",
       "      <th></th>\n",
       "      <th>DATE</th>\n",
       "      <th>Place_holder</th>\n",
       "      <th>Count</th>\n",
       "    </tr>\n",
       "  </thead>\n",
       "  <tbody>\n",
       "    <tr>\n",
       "      <th>177</th>\n",
       "      <td>2018-12-25</td>\n",
       "      <td>0</td>\n",
       "      <td>NaN</td>\n",
       "    </tr>\n",
       "  </tbody>\n",
       "</table>\n",
       "</div>"
      ],
      "text/plain": [
       "          DATE  Place_holder  Count\n",
       "177 2018-12-25             0    NaN"
      ]
     },
     "execution_count": 153,
     "metadata": {},
     "output_type": "execute_result"
    }
   ],
   "source": [
    "# Verify that christmas day was the missing date\n",
    "merged_date[merged_date['Count'].isnull()]"
   ]
  },
  {
   "cell_type": "markdown",
   "id": "e5b429e5",
   "metadata": {},
   "source": [
    "## <a id='1.4'> 1.4 Feature Engineering</a>"
   ]
  },
  {
   "cell_type": "markdown",
   "id": "714537d6",
   "metadata": {},
   "source": [
    "I can now continue on to creating other features, such as chip brand or pack size, based on the product name. I'll begin with the pack size."
   ]
  },
  {
   "cell_type": "code",
   "execution_count": 154,
   "id": "6694d9ef",
   "metadata": {},
   "outputs": [],
   "source": [
    "chip_df['PACKET_SIZE'] = chip_df['PROD_NAME'].str.extract(pat = '([0-9]+)')"
   ]
  },
  {
   "cell_type": "code",
   "execution_count": 155,
   "id": "c6e28f2b",
   "metadata": {},
   "outputs": [],
   "source": [
    "# make sure all values data-type are integers\n",
    "chip_df['PACKET_SIZE'] = chip_df['PACKET_SIZE'].apply(lambda v: int(v))"
   ]
  },
  {
   "cell_type": "code",
   "execution_count": 156,
   "id": "f672d794",
   "metadata": {},
   "outputs": [
    {
     "data": {
      "text/plain": [
       "70      1507\n",
       "90      3008\n",
       "110    22387\n",
       "125     1454\n",
       "134    25102\n",
       "135     3257\n",
       "150    40203\n",
       "160     2970\n",
       "165    15297\n",
       "170    19983\n",
       "175    66390\n",
       "180     1468\n",
       "190     2995\n",
       "200     4473\n",
       "210     6272\n",
       "220     1564\n",
       "250     3169\n",
       "270     6285\n",
       "330    12540\n",
       "380     6416\n",
       "Name: PACKET_SIZE, dtype: int64"
      ]
     },
     "execution_count": 156,
     "metadata": {},
     "output_type": "execute_result"
    }
   ],
   "source": [
    "# checking the packet_size feature\n",
    "chip_df['PACKET_SIZE'].value_counts().sort_index()"
   ]
  },
  {
   "cell_type": "code",
   "execution_count": 157,
   "id": "fd1bfdc4",
   "metadata": {},
   "outputs": [
    {
     "data": {
      "text/plain": [
       "0"
      ]
     },
     "execution_count": 157,
     "metadata": {},
     "output_type": "execute_result"
    }
   ],
   "source": [
    "# confirm that the packet_size columns contains no missing value\n",
    "chip_df['PACKET_SIZE'].isnull().sum()"
   ]
  },
  {
   "cell_type": "markdown",
   "id": "9b6528d8",
   "metadata": {},
   "source": [
    "This column's values are in the range of 70 to 380, which is reasonable. Also, there are no missing values in the column."
   ]
  },
  {
   "cell_type": "code",
   "execution_count": 158,
   "id": "0a0a16a8",
   "metadata": {},
   "outputs": [
    {
     "data": {
      "text/plain": [
       "<AxesSubplot:xlabel='PACKET_SIZE', ylabel='Count'>"
      ]
     },
     "execution_count": 158,
     "metadata": {},
     "output_type": "execute_result"
    },
    {
     "data": {
      "image/png": "[encoded data removed]",
      "text/plain": [
       "<Figure size 1440x504 with 1 Axes>"
      ]
     },
     "metadata": {
      "needs_background": "light"
     },
     "output_type": "display_data"
    }
   ],
   "source": [
    "# plot packet_size histogram\n",
    "plt.figure(figsize=(20,7))\n",
    "sns.histplot(x=chip_df['PACKET_SIZE'], bins=30)"
   ]
  },
  {
   "cell_type": "markdown",
   "id": "113881ac",
   "metadata": {},
   "source": [
    "1The most purchased packet size was 175g, followed by sizes between 140 and 150g, and then 160g."
   ]
  },
  {
   "cell_type": "code",
   "execution_count": 159,
   "id": "bff0b9e6",
   "metadata": {},
   "outputs": [],
   "source": [
    "# create brand feature from product name\n",
    "chip_df['BRAND'] = chip_df['PROD_NAME'].str.split(expand=True)[0]"
   ]
  },
  {
   "cell_type": "code",
   "execution_count": 160,
   "id": "48f9757c",
   "metadata": {},
   "outputs": [
    {
     "data": {
      "text/plain": [
       "Kettle        41288\n",
       "Smiths        27390\n",
       "Pringles      25102\n",
       "Doritos       22041\n",
       "Thins         14075\n",
       "RRD           11894\n",
       "Infuzions     11057\n",
       "WW            10320\n",
       "Cobs           9693\n",
       "Tostitos       9471\n",
       "Twisties       9454\n",
       "Tyrrells       6442\n",
       "Grain          6272\n",
       "Natural        6050\n",
       "Cheezels       4603\n",
       "CCs            4551\n",
       "Red            4427\n",
       "Dorito         3183\n",
       "Infzns         3144\n",
       "Smith          2963\n",
       "Cheetos        2927\n",
       "Snbts          1576\n",
       "Burger         1564\n",
       "Woolworths     1516\n",
       "GrnWves        1468\n",
       "Sunbites       1432\n",
       "NCC            1419\n",
       "French         1418\n",
       "Name: BRAND, dtype: int64"
      ]
     },
     "execution_count": 160,
     "metadata": {},
     "output_type": "execute_result"
    }
   ],
   "source": [
    "chip_df['BRAND'].value_counts()"
   ]
  },
  {
   "cell_type": "markdown",
   "id": "3655137b",
   "metadata": {},
   "source": [
    "Some brands appear to have been shortened or spelled differently, so let's see whether they're all the same.\n",
    "\n",
    "Currently, I suspect that the folowing brands are the same:\n",
    "- Red == RRD\n",
    "- Natural == NCC\n",
    "- Woolworths == WW\n",
    "- Cheezels/Cheetos == CCs\n",
    "- Infzns == Infuzions\n",
    "- Grain == GranWves\n",
    "- Smith == Smiths\n",
    "- Sunbites == Snbts\n",
    "- Dorito == Doritos"
   ]
  },
  {
   "cell_type": "markdown",
   "id": "9538ac54",
   "metadata": {},
   "source": [
    "### <a id='1.4.1'> 1.4.1 Dealing with duplicate in brand</a>"
   ]
  },
  {
   "cell_type": "markdown",
   "id": "eb868bbf",
   "metadata": {},
   "source": [
    "**Checking 'Red' and 'RRD'**"
   ]
  },
  {
   "cell_type": "code",
   "execution_count": 161,
   "id": "303043d7",
   "metadata": {},
   "outputs": [
    {
     "data": {
      "text/plain": [
       "Red Rock Deli Sp    Salt & Truffle 150G    1498\n",
       "Red Rock Deli Thai  Chilli&Lime 150g       1495\n",
       "Red Rock Deli Chikn&Garlic Aioli 150g      1434\n",
       "Name: PROD_NAME, dtype: int64"
      ]
     },
     "execution_count": 161,
     "metadata": {},
     "output_type": "execute_result"
    }
   ],
   "source": [
    "chip_df[chip_df['BRAND'] == 'Red']['PROD_NAME'].value_counts()"
   ]
  },
  {
   "cell_type": "code",
   "execution_count": 162,
   "id": "4486b3ac",
   "metadata": {},
   "outputs": [
    {
     "data": {
      "text/plain": [
       "RRD SR Slow Rst     Pork Belly 150g     1526\n",
       "RRD Sweet Chilli &  Sour Cream 165g     1516\n",
       "RRD Honey Soy       Chicken 165g        1513\n",
       "RRD Chilli&         Coconut 150g        1506\n",
       "RRD Salt & Vinegar  165g                1474\n",
       "RRD Lime & Pepper   165g                1473\n",
       "RRD Steak &         Chimuchurri 150g    1455\n",
       "RRD Pc Sea Salt     165g                1431\n",
       "Name: PROD_NAME, dtype: int64"
      ]
     },
     "execution_count": 162,
     "metadata": {},
     "output_type": "execute_result"
    }
   ],
   "source": [
    "chip_df[chip_df['BRAND'] == 'RRD']['PROD_NAME'].value_counts()"
   ]
  },
  {
   "cell_type": "markdown",
   "id": "dc2bf403",
   "metadata": {},
   "source": [
    "The red brand represents Red Rock Deli, which is the RRD brand's full name"
   ]
  },
  {
   "cell_type": "markdown",
   "id": "c958b00e",
   "metadata": {},
   "source": [
    "**Checking 'Natural' and 'NCC'**"
   ]
  },
  {
   "cell_type": "code",
   "execution_count": 163,
   "id": "10c2a211",
   "metadata": {},
   "outputs": [
    {
     "data": {
      "text/plain": [
       "Natural Chip Co     Tmato Hrb&Spce 175g    1572\n",
       "Natural ChipCo Sea  Salt & Vinegr 175g     1550\n",
       "Natural Chip        Compny SeaSalt175g     1468\n",
       "Natural ChipCo      Hony Soy Chckn175g     1460\n",
       "Name: PROD_NAME, dtype: int64"
      ]
     },
     "execution_count": 163,
     "metadata": {},
     "output_type": "execute_result"
    }
   ],
   "source": [
    "chip_df[chip_df['BRAND'] == 'Natural']['PROD_NAME'].value_counts()"
   ]
  },
  {
   "cell_type": "code",
   "execution_count": 164,
   "id": "44aeaf12",
   "metadata": {},
   "outputs": [
    {
     "data": {
      "text/plain": [
       "NCC Sour Cream &    Garden Chives 175g    1419\n",
       "Name: PROD_NAME, dtype: int64"
      ]
     },
     "execution_count": 164,
     "metadata": {},
     "output_type": "execute_result"
    }
   ],
   "source": [
    "chip_df[chip_df['BRAND'] == 'NCC']['PROD_NAME'].value_counts()"
   ]
  },
  {
   "cell_type": "markdown",
   "id": "e6bc1a03",
   "metadata": {},
   "source": [
    "Suspicion was correct as Natural represented Natural Chip Co/Company which is same thing as NCC"
   ]
  },
  {
   "cell_type": "markdown",
   "id": "e60390e7",
   "metadata": {},
   "source": [
    "**Checking 'WW' and 'WoolWorths'**"
   ]
  },
  {
   "cell_type": "code",
   "execution_count": 165,
   "id": "c16c5754",
   "metadata": {},
   "outputs": [
    {
     "data": {
      "text/plain": [
       "WW Supreme Cheese   Corn Chips 200g       1509\n",
       "WW Original Corn    Chips 200g            1495\n",
       "WW Original Stacked Chips 160g            1487\n",
       "WW Sour Cream &OnionStacked Chips 160g    1483\n",
       "WW D/Style Chip     Sea Salt 200g         1469\n",
       "WW Crinkle Cut      Chicken 175g          1467\n",
       "WW Crinkle Cut      Original 175g         1410\n",
       "Name: PROD_NAME, dtype: int64"
      ]
     },
     "execution_count": 165,
     "metadata": {},
     "output_type": "execute_result"
    }
   ],
   "source": [
    "chip_df[chip_df['BRAND'] == 'WW']['PROD_NAME'].value_counts()"
   ]
  },
  {
   "cell_type": "code",
   "execution_count": 166,
   "id": "8f828080",
   "metadata": {},
   "outputs": [
    {
     "data": {
      "text/plain": [
       "Woolworths Cheese   Rings 190g    1516\n",
       "Name: PROD_NAME, dtype: int64"
      ]
     },
     "execution_count": 166,
     "metadata": {},
     "output_type": "execute_result"
    }
   ],
   "source": [
    "chip_df[chip_df['BRAND'] == 'Woolworths']['PROD_NAME'].value_counts()"
   ]
  },
  {
   "cell_type": "markdown",
   "id": "f4731bb9",
   "metadata": {},
   "source": [
    "The woolworth brand contains only one of the company's product, the other products are other WW brand name so we would merge this two as well"
   ]
  },
  {
   "cell_type": "markdown",
   "id": "09d138b5",
   "metadata": {},
   "source": [
    "CCs and cheezels / cheetos"
   ]
  },
  {
   "cell_type": "markdown",
   "id": "363ba704",
   "metadata": {},
   "source": [
    "**Checking 'CCs' and 'Cheezels' / 'Cheetos**"
   ]
  },
  {
   "cell_type": "code",
   "execution_count": 167,
   "id": "5836850f",
   "metadata": {},
   "outputs": [
    {
     "data": {
      "text/plain": [
       "CCs Tasty Cheese    175g    1539\n",
       "CCs Original 175g           1514\n",
       "CCs Nacho Cheese    175g    1498\n",
       "Name: PROD_NAME, dtype: int64"
      ]
     },
     "execution_count": 167,
     "metadata": {},
     "output_type": "execute_result"
    }
   ],
   "source": [
    "chip_df[chip_df['BRAND'] == 'CCs']['PROD_NAME'].value_counts()"
   ]
  },
  {
   "cell_type": "code",
   "execution_count": 168,
   "id": "d3a1d586",
   "metadata": {},
   "outputs": [
    {
     "data": {
      "text/plain": [
       "Cheezels Cheese 330g        3149\n",
       "Cheezels Cheese Box 125g    1454\n",
       "Name: PROD_NAME, dtype: int64"
      ]
     },
     "execution_count": 168,
     "metadata": {},
     "output_type": "execute_result"
    }
   ],
   "source": [
    "chip_df[chip_df['BRAND'] == 'Cheezels']['PROD_NAME'].value_counts()"
   ]
  },
  {
   "cell_type": "code",
   "execution_count": 169,
   "id": "f3d7fabb",
   "metadata": {},
   "outputs": [
    {
     "data": {
      "text/plain": [
       "Cheetos Chs & Bacon Balls 190g    1479\n",
       "Cheetos Puffs 165g                1448\n",
       "Name: PROD_NAME, dtype: int64"
      ]
     },
     "execution_count": 169,
     "metadata": {},
     "output_type": "execute_result"
    }
   ],
   "source": [
    "chip_df[chip_df['BRAND'] == 'Cheetos']['PROD_NAME'].value_counts()"
   ]
  },
  {
   "cell_type": "markdown",
   "id": "aea4353b",
   "metadata": {},
   "source": [
    "Cheetos is defintely a brand on its own, However it seems like CCs could mean Cheezels Cheese but after further research on the chip industry I confirmed that CC's stands for Corn chip"
   ]
  },
  {
   "cell_type": "markdown",
   "id": "8b587dad",
   "metadata": {},
   "source": [
    "**Checking 'Infuzions' and 'Infzns'**"
   ]
  },
  {
   "cell_type": "code",
   "execution_count": 170,
   "id": "ae1fbc2f",
   "metadata": {},
   "outputs": [
    {
     "data": {
      "text/plain": [
       "Infuzions Thai SweetChili PotatoMix 110g    3242\n",
       "Infuzions BBQ Rib   Prawn Crackers 110g     3174\n",
       "Infuzions SourCream&Herbs Veg Strws 110g    3134\n",
       "Infuzions Mango     Chutny Papadums 70g     1507\n",
       "Name: PROD_NAME, dtype: int64"
      ]
     },
     "execution_count": 170,
     "metadata": {},
     "output_type": "execute_result"
    }
   ],
   "source": [
    "chip_df[chip_df['BRAND'] == 'Infuzions']['PROD_NAME'].value_counts()"
   ]
  },
  {
   "cell_type": "code",
   "execution_count": 171,
   "id": "00af2c88",
   "metadata": {},
   "outputs": [
    {
     "data": {
      "text/plain": [
       "Infzns Crn Crnchers Tangy Gcamole 110g    3144\n",
       "Name: PROD_NAME, dtype: int64"
      ]
     },
     "execution_count": 171,
     "metadata": {},
     "output_type": "execute_result"
    }
   ],
   "source": [
    "chip_df[chip_df['BRAND'] == 'Infzns']['PROD_NAME'].value_counts()"
   ]
  },
  {
   "cell_type": "markdown",
   "id": "97a57eee",
   "metadata": {},
   "source": [
    "Infzns contains just one product, the other brand product are under infuzions"
   ]
  },
  {
   "cell_type": "markdown",
   "id": "0f631ef0",
   "metadata": {},
   "source": [
    "**Checking 'Grain' and 'GrnWves'**"
   ]
  },
  {
   "cell_type": "code",
   "execution_count": 172,
   "id": "bdd7df85",
   "metadata": {},
   "outputs": [
    {
     "data": {
      "text/plain": [
       "Grain Waves         Sweet Chilli 210g    3167\n",
       "Grain Waves Sour    Cream&Chives 210G    3105\n",
       "Name: PROD_NAME, dtype: int64"
      ]
     },
     "execution_count": 172,
     "metadata": {},
     "output_type": "execute_result"
    }
   ],
   "source": [
    "chip_df[chip_df['BRAND'] == 'Grain']['PROD_NAME'].value_counts()"
   ]
  },
  {
   "cell_type": "code",
   "execution_count": 173,
   "id": "af70759f",
   "metadata": {},
   "outputs": [
    {
     "data": {
      "text/plain": [
       "GrnWves Plus Btroot & Chilli Jam 180g    1468\n",
       "Name: PROD_NAME, dtype: int64"
      ]
     },
     "execution_count": 173,
     "metadata": {},
     "output_type": "execute_result"
    }
   ],
   "source": [
    "chip_df[chip_df['BRAND'] == 'GrnWves']['PROD_NAME'].value_counts()"
   ]
  },
  {
   "cell_type": "markdown",
   "id": "709676aa",
   "metadata": {},
   "source": [
    "Also the Grain and GrnWves are the same brand"
   ]
  },
  {
   "cell_type": "markdown",
   "id": "424ef6dd",
   "metadata": {},
   "source": [
    "**Checking 'Smith' and 'Smiths'**"
   ]
  },
  {
   "cell_type": "code",
   "execution_count": 174,
   "id": "4fc946dd",
   "metadata": {},
   "outputs": [
    {
     "data": {
      "text/plain": [
       "Smiths Crnkle Chip  Orgnl Big Bag 380g      3233\n",
       "Smiths Crinkle Chips Salt & Vinegar 330g    3197\n",
       "Smiths Crinkle      Original 330g           3142\n",
       "Smiths Chip Thinly  Cut Original 175g       1614\n",
       "Smiths Thinly Cut   Roast Chicken 175g      1519\n",
       "Smiths Crinkle Cut  Snag&Sauce 150g         1503\n",
       "Smiths Crinkle Cut  Chips Barbecue 170g     1489\n",
       "Smiths Crinkle Cut  Chips Chicken 170g      1484\n",
       "Smiths Crinkle Cut  Chips Chs&Onion170g     1481\n",
       "Smiths Chip Thinly  S/Cream&Onion 175g      1473\n",
       "Smiths Crinkle Cut  Chips Original 170g     1461\n",
       "Smiths Thinly       Swt Chli&S/Cream175G    1461\n",
       "Smiths Crinkle Cut  Salt & Vinegar 170g     1455\n",
       "Smiths Chip Thinly  CutSalt/Vinegr175g      1440\n",
       "Smiths Crinkle Cut  French OnionDip 150g    1438\n",
       "Name: PROD_NAME, dtype: int64"
      ]
     },
     "execution_count": 174,
     "metadata": {},
     "output_type": "execute_result"
    }
   ],
   "source": [
    "chip_df[chip_df['BRAND'] == 'Smiths']['PROD_NAME'].value_counts()"
   ]
  },
  {
   "cell_type": "code",
   "execution_count": 175,
   "id": "4a2f52dc",
   "metadata": {},
   "outputs": [
    {
     "data": {
      "text/plain": [
       "Smith Crinkle Cut   Mac N Cheese 150g    1512\n",
       "Smith Crinkle Cut   Bolognese 150g       1451\n",
       "Name: PROD_NAME, dtype: int64"
      ]
     },
     "execution_count": 175,
     "metadata": {},
     "output_type": "execute_result"
    }
   ],
   "source": [
    "chip_df[chip_df['BRAND'] == 'Smith']['PROD_NAME'].value_counts()"
   ]
  },
  {
   "cell_type": "markdown",
   "id": "4096bee1",
   "metadata": {},
   "source": [
    "These two are also the same"
   ]
  },
  {
   "cell_type": "markdown",
   "id": "426e44da",
   "metadata": {},
   "source": [
    "**Checking 'Sunbites' and 'Snbts'**"
   ]
  },
  {
   "cell_type": "code",
   "execution_count": 176,
   "id": "7d2be69b",
   "metadata": {},
   "outputs": [
    {
     "data": {
      "text/plain": [
       "Sunbites Whlegrn    Crisps Frch/Onin 90g    1432\n",
       "Name: PROD_NAME, dtype: int64"
      ]
     },
     "execution_count": 176,
     "metadata": {},
     "output_type": "execute_result"
    }
   ],
   "source": [
    "chip_df[chip_df['BRAND'] == 'Sunbites']['PROD_NAME'].value_counts()"
   ]
  },
  {
   "cell_type": "code",
   "execution_count": 177,
   "id": "497f4b1e",
   "metadata": {},
   "outputs": [
    {
     "data": {
      "text/plain": [
       "Snbts Whlgrn Crisps Cheddr&Mstrd 90g    1576\n",
       "Name: PROD_NAME, dtype: int64"
      ]
     },
     "execution_count": 177,
     "metadata": {},
     "output_type": "execute_result"
    }
   ],
   "source": [
    "chip_df[chip_df['BRAND'] == 'Snbts']['PROD_NAME'].value_counts()"
   ]
  },
  {
   "cell_type": "markdown",
   "id": "602f9d25",
   "metadata": {},
   "source": [
    "Both brands contain just one product with 'Whlgrn' and 'Whlegrn' most likely meaning the same thing. Therefore I will merge these too\n",
    "\n",
    "**Checking 'Doritos' and 'Dorito'**"
   ]
  },
  {
   "cell_type": "code",
   "execution_count": 178,
   "id": "eb932777",
   "metadata": {},
   "outputs": [
    {
     "data": {
      "text/plain": [
       "Doritos Corn Chips  Cheese Supreme 170g    3217\n",
       "Doritos Corn Chip Mexican Jalapeno 150g    3204\n",
       "Doritos Corn Chip Southern Chicken 150g    3172\n",
       "Doritos Corn Chips  Nacho Cheese 170g      3160\n",
       "Doritos Corn Chips  Original 170g          3121\n",
       "Doritos Mexicana    170g                   3115\n",
       "Doritos Cheese      Supreme 330g           3052\n",
       "Name: PROD_NAME, dtype: int64"
      ]
     },
     "execution_count": 178,
     "metadata": {},
     "output_type": "execute_result"
    }
   ],
   "source": [
    "chip_df[chip_df['BRAND'] == 'Doritos']['PROD_NAME'].value_counts()"
   ]
  },
  {
   "cell_type": "code",
   "execution_count": 179,
   "id": "bded16ea",
   "metadata": {},
   "outputs": [
    {
     "data": {
      "text/plain": [
       "Dorito Corn Chp     Supreme 380g    3183\n",
       "Name: PROD_NAME, dtype: int64"
      ]
     },
     "execution_count": 179,
     "metadata": {},
     "output_type": "execute_result"
    }
   ],
   "source": [
    "chip_df[chip_df['BRAND'] == 'Dorito']['PROD_NAME'].value_counts()"
   ]
  },
  {
   "cell_type": "markdown",
   "id": "22471a3e",
   "metadata": {},
   "source": [
    "Now, that I have confirm similar brands, I would merge them"
   ]
  },
  {
   "cell_type": "code",
   "execution_count": 180,
   "id": "457af6f1",
   "metadata": {},
   "outputs": [],
   "source": [
    "# change red to rrd\n",
    "chip_df.loc[chip_df['BRAND'] == 'Red', 'BRAND'] = 'RRD'"
   ]
  },
  {
   "cell_type": "code",
   "execution_count": 181,
   "id": "cbb1b7ca",
   "metadata": {},
   "outputs": [],
   "source": [
    "# change Natural to NCC\n",
    "chip_df.loc[chip_df['BRAND'] == 'Natural', 'BRAND'] = 'NCC'"
   ]
  },
  {
   "cell_type": "code",
   "execution_count": 182,
   "id": "0795c2c9",
   "metadata": {},
   "outputs": [],
   "source": [
    "# change Woolworths to WW\n",
    "chip_df.loc[chip_df['BRAND'] == 'Woolworths', 'BRAND'] = 'WW'"
   ]
  },
  {
   "cell_type": "code",
   "execution_count": 183,
   "id": "22e15093",
   "metadata": {},
   "outputs": [],
   "source": [
    "# change Infzns to Infuzions\n",
    "chip_df.loc[chip_df['BRAND'] == 'Infzns', 'BRAND'] = 'Infuzions'"
   ]
  },
  {
   "cell_type": "code",
   "execution_count": 184,
   "id": "37df3156",
   "metadata": {},
   "outputs": [],
   "source": [
    "# change Grain to Grnwvs\n",
    "chip_df.loc[chip_df['BRAND'] == 'Grain', 'BRAND'] = 'GrnWves'"
   ]
  },
  {
   "cell_type": "code",
   "execution_count": 185,
   "id": "0be3a9b9",
   "metadata": {},
   "outputs": [],
   "source": [
    "# change Smith to Smiths\n",
    "chip_df.loc[chip_df['BRAND'] == 'Smith', 'BRAND'] = 'Smiths'"
   ]
  },
  {
   "cell_type": "code",
   "execution_count": 186,
   "id": "6a9c3e1d",
   "metadata": {},
   "outputs": [],
   "source": [
    "# change Snbts to Sunbites\n",
    "chip_df.loc[chip_df['BRAND'] == 'Snbts', 'BRAND'] = 'Sunbites'"
   ]
  },
  {
   "cell_type": "code",
   "execution_count": 187,
   "id": "a874ed44",
   "metadata": {},
   "outputs": [],
   "source": [
    "# change Dorito to Doritos\n",
    "chip_df.loc[chip_df['BRAND'] == 'Dorito', 'BRAND'] = 'Doritos'"
   ]
  },
  {
   "cell_type": "code",
   "execution_count": 188,
   "id": "fad17c55",
   "metadata": {},
   "outputs": [
    {
     "data": {
      "text/plain": [
       "Kettle       41288\n",
       "Smiths       30353\n",
       "Doritos      25224\n",
       "Pringles     25102\n",
       "RRD          16321\n",
       "Infuzions    14201\n",
       "Thins        14075\n",
       "WW           11836\n",
       "Cobs          9693\n",
       "Tostitos      9471\n",
       "Twisties      9454\n",
       "GrnWves       7740\n",
       "NCC           7469\n",
       "Tyrrells      6442\n",
       "Cheezels      4603\n",
       "CCs           4551\n",
       "Sunbites      3008\n",
       "Cheetos       2927\n",
       "Burger        1564\n",
       "French        1418\n",
       "Name: BRAND, dtype: int64"
      ]
     },
     "execution_count": 188,
     "metadata": {},
     "output_type": "execute_result"
    }
   ],
   "source": [
    "# Lets examine the BRAND column again\n",
    "chip_df['BRAND'].value_counts()"
   ]
  },
  {
   "cell_type": "code",
   "execution_count": 189,
   "id": "1342a17c",
   "metadata": {},
   "outputs": [
    {
     "data": {
      "text/plain": [
       "DATE              0\n",
       "STORE_NBR         0\n",
       "LYLTY_CARD_NBR    0\n",
       "TXN_ID            0\n",
       "PROD_NBR          0\n",
       "PROD_NAME         0\n",
       "PROD_QTY          0\n",
       "TOT_SALES         0\n",
       "MONTH             0\n",
       "DAY_OF_WEEK       0\n",
       "PACKET_SIZE       0\n",
       "BRAND             0\n",
       "dtype: int64"
      ]
     },
     "execution_count": 189,
     "metadata": {},
     "output_type": "execute_result"
    }
   ],
   "source": [
    "# Verify there are no missing values after feature engineering\n",
    "chip_df.isnull().sum()"
   ]
  },
  {
   "cell_type": "markdown",
   "id": "8d7494e2",
   "metadata": {},
   "source": [
    "Perfect! this dataset is good to go"
   ]
  },
  {
   "cell_type": "markdown",
   "id": "4bed736a",
   "metadata": {},
   "source": [
    "# <a id='2'>2. Data preperation phase 2</a>"
   ]
  },
  {
   "cell_type": "markdown",
   "id": "00ae6c51",
   "metadata": {},
   "source": [
    "For the second phase of the data preparation, I would clean the customer data set before merging it with the cleaned transaction dataset"
   ]
  },
  {
   "cell_type": "markdown",
   "id": "4867c7c9",
   "metadata": {},
   "source": [
    "## <a id='2.1'> 2.1 Processing Customer dataset</a>"
   ]
  },
  {
   "cell_type": "code",
   "execution_count": 190,
   "id": "e9e5ec6b",
   "metadata": {},
   "outputs": [
    {
     "data": {
      "text/html": [
       "<div>\n",
       "<style scoped>\n",
       "    .dataframe tbody tr th:only-of-type {\n",
       "        vertical-align: middle;\n",
       "    }\n",
       "\n",
       "    .dataframe tbody tr th {\n",
       "        vertical-align: top;\n",
       "    }\n",
       "\n",
       "    .dataframe thead th {\n",
       "        text-align: right;\n",
       "    }\n",
       "</style>\n",
       "<table border=\"1\" class=\"dataframe\">\n",
       "  <thead>\n",
       "    <tr style=\"text-align: right;\">\n",
       "      <th></th>\n",
       "      <th>LYLTY_CARD_NBR</th>\n",
       "      <th>LIFESTAGE</th>\n",
       "      <th>PREMIUM_CUSTOMER</th>\n",
       "    </tr>\n",
       "  </thead>\n",
       "  <tbody>\n",
       "    <tr>\n",
       "      <th>0</th>\n",
       "      <td>1000</td>\n",
       "      <td>YOUNG SINGLES/COUPLES</td>\n",
       "      <td>Premium</td>\n",
       "    </tr>\n",
       "    <tr>\n",
       "      <th>1</th>\n",
       "      <td>1002</td>\n",
       "      <td>YOUNG SINGLES/COUPLES</td>\n",
       "      <td>Mainstream</td>\n",
       "    </tr>\n",
       "    <tr>\n",
       "      <th>2</th>\n",
       "      <td>1003</td>\n",
       "      <td>YOUNG FAMILIES</td>\n",
       "      <td>Budget</td>\n",
       "    </tr>\n",
       "  </tbody>\n",
       "</table>\n",
       "</div>"
      ],
      "text/plain": [
       "   LYLTY_CARD_NBR              LIFESTAGE PREMIUM_CUSTOMER\n",
       "0            1000  YOUNG SINGLES/COUPLES          Premium\n",
       "1            1002  YOUNG SINGLES/COUPLES       Mainstream\n",
       "2            1003         YOUNG FAMILIES           Budget"
      ]
     },
     "execution_count": 190,
     "metadata": {},
     "output_type": "execute_result"
    }
   ],
   "source": [
    "cust.head(3)\n",
    "#we have just 3 columns"
   ]
  },
  {
   "cell_type": "code",
   "execution_count": 191,
   "id": "7e0a3b4d",
   "metadata": {},
   "outputs": [
    {
     "data": {
      "text/plain": [
       "0"
      ]
     },
     "execution_count": 191,
     "metadata": {},
     "output_type": "execute_result"
    }
   ],
   "source": [
    "# check for duplicate\n",
    "sum(cust.duplicated('LYLTY_CARD_NBR'))"
   ]
  },
  {
   "cell_type": "code",
   "execution_count": 192,
   "id": "0bc271f0",
   "metadata": {},
   "outputs": [
    {
     "data": {
      "text/plain": [
       "LYLTY_CARD_NBR      0\n",
       "LIFESTAGE           0\n",
       "PREMIUM_CUSTOMER    0\n",
       "dtype: int64"
      ]
     },
     "execution_count": 192,
     "metadata": {},
     "output_type": "execute_result"
    }
   ],
   "source": [
    "# check for missing values\n",
    "cust.isnull().sum()"
   ]
  },
  {
   "cell_type": "code",
   "execution_count": 193,
   "id": "8cc67832",
   "metadata": {},
   "outputs": [
    {
     "data": {
      "text/plain": [
       "LYLTY_CARD_NBR      72637\n",
       "LIFESTAGE               7\n",
       "PREMIUM_CUSTOMER        3\n",
       "dtype: int64"
      ]
     },
     "execution_count": 193,
     "metadata": {},
     "output_type": "execute_result"
    }
   ],
   "source": [
    "cust.nunique()"
   ]
  },
  {
   "cell_type": "code",
   "execution_count": 194,
   "id": "392f23b3",
   "metadata": {},
   "outputs": [
    {
     "data": {
      "text/plain": [
       "71287"
      ]
     },
     "execution_count": 194,
     "metadata": {},
     "output_type": "execute_result"
    }
   ],
   "source": [
    "chip_df['LYLTY_CARD_NBR'].nunique()"
   ]
  },
  {
   "cell_type": "code",
   "execution_count": 195,
   "id": "5f8d5e7b",
   "metadata": {},
   "outputs": [
    {
     "data": {
      "text/plain": [
       "RETIREES                  14805\n",
       "OLDER SINGLES/COUPLES     14609\n",
       "YOUNG SINGLES/COUPLES     14441\n",
       "OLDER FAMILIES             9780\n",
       "YOUNG FAMILIES             9178\n",
       "MIDAGE SINGLES/COUPLES     7275\n",
       "NEW FAMILIES               2549\n",
       "Name: LIFESTAGE, dtype: int64"
      ]
     },
     "execution_count": 195,
     "metadata": {},
     "output_type": "execute_result"
    }
   ],
   "source": [
    "cust['LIFESTAGE'].value_counts()"
   ]
  },
  {
   "cell_type": "code",
   "execution_count": 196,
   "id": "ad168ab9",
   "metadata": {},
   "outputs": [
    {
     "data": {
      "text/plain": [
       "Mainstream    29245\n",
       "Budget        24470\n",
       "Premium       18922\n",
       "Name: PREMIUM_CUSTOMER, dtype: int64"
      ]
     },
     "execution_count": 196,
     "metadata": {},
     "output_type": "execute_result"
    }
   ],
   "source": [
    "cust['PREMIUM_CUSTOMER'].value_counts()"
   ]
  },
  {
   "cell_type": "markdown",
   "id": "a08d83a8",
   "metadata": {},
   "source": [
    "The lifestage feature has 7 categories while the premium_customer feature has 3 categories. All these are relevant for the analysis therefore I would proceed to merge this with the transaction data"
   ]
  },
  {
   "cell_type": "markdown",
   "id": "5e20c45c",
   "metadata": {},
   "source": [
    "## <a id='2.2'> 2.2 Merging the transaction and customer dataset</a>"
   ]
  },
  {
   "cell_type": "code",
   "execution_count": 197,
   "id": "a18745da",
   "metadata": {},
   "outputs": [],
   "source": [
    "df = pd.merge(chip_df, cust, how='left', on='LYLTY_CARD_NBR')"
   ]
  },
  {
   "cell_type": "code",
   "execution_count": 198,
   "id": "674a97c8",
   "metadata": {},
   "outputs": [
    {
     "data": {
      "text/plain": [
       "True"
      ]
     },
     "execution_count": 198,
     "metadata": {},
     "output_type": "execute_result"
    }
   ],
   "source": [
    "# confirm that no of rows remained the same\n",
    "df.shape[0] == chip_df.shape[0]"
   ]
  },
  {
   "cell_type": "code",
   "execution_count": 199,
   "id": "cd1a6a81",
   "metadata": {},
   "outputs": [
    {
     "data": {
      "text/html": [
       "<div>\n",
       "<style scoped>\n",
       "    .dataframe tbody tr th:only-of-type {\n",
       "        vertical-align: middle;\n",
       "    }\n",
       "\n",
       "    .dataframe tbody tr th {\n",
       "        vertical-align: top;\n",
       "    }\n",
       "\n",
       "    .dataframe thead th {\n",
       "        text-align: right;\n",
       "    }\n",
       "</style>\n",
       "<table border=\"1\" class=\"dataframe\">\n",
       "  <thead>\n",
       "    <tr style=\"text-align: right;\">\n",
       "      <th></th>\n",
       "      <th>DATE</th>\n",
       "      <th>STORE_NBR</th>\n",
       "      <th>LYLTY_CARD_NBR</th>\n",
       "      <th>TXN_ID</th>\n",
       "      <th>PROD_NBR</th>\n",
       "      <th>PROD_NAME</th>\n",
       "      <th>PROD_QTY</th>\n",
       "      <th>TOT_SALES</th>\n",
       "      <th>MONTH</th>\n",
       "      <th>DAY_OF_WEEK</th>\n",
       "      <th>PACKET_SIZE</th>\n",
       "      <th>BRAND</th>\n",
       "      <th>LIFESTAGE</th>\n",
       "      <th>PREMIUM_CUSTOMER</th>\n",
       "    </tr>\n",
       "  </thead>\n",
       "  <tbody>\n",
       "    <tr>\n",
       "      <th>0</th>\n",
       "      <td>2018-10-17</td>\n",
       "      <td>1</td>\n",
       "      <td>1000</td>\n",
       "      <td>1</td>\n",
       "      <td>5</td>\n",
       "      <td>Natural Chip        Compny SeaSalt175g</td>\n",
       "      <td>2</td>\n",
       "      <td>6.0</td>\n",
       "      <td>10</td>\n",
       "      <td>2</td>\n",
       "      <td>175</td>\n",
       "      <td>NCC</td>\n",
       "      <td>YOUNG SINGLES/COUPLES</td>\n",
       "      <td>Premium</td>\n",
       "    </tr>\n",
       "    <tr>\n",
       "      <th>1</th>\n",
       "      <td>2019-05-14</td>\n",
       "      <td>1</td>\n",
       "      <td>1307</td>\n",
       "      <td>348</td>\n",
       "      <td>66</td>\n",
       "      <td>CCs Nacho Cheese    175g</td>\n",
       "      <td>3</td>\n",
       "      <td>6.3</td>\n",
       "      <td>5</td>\n",
       "      <td>1</td>\n",
       "      <td>175</td>\n",
       "      <td>CCs</td>\n",
       "      <td>MIDAGE SINGLES/COUPLES</td>\n",
       "      <td>Budget</td>\n",
       "    </tr>\n",
       "    <tr>\n",
       "      <th>2</th>\n",
       "      <td>2019-05-20</td>\n",
       "      <td>1</td>\n",
       "      <td>1343</td>\n",
       "      <td>383</td>\n",
       "      <td>61</td>\n",
       "      <td>Smiths Crinkle Cut  Chips Chicken 170g</td>\n",
       "      <td>2</td>\n",
       "      <td>2.9</td>\n",
       "      <td>5</td>\n",
       "      <td>0</td>\n",
       "      <td>170</td>\n",
       "      <td>Smiths</td>\n",
       "      <td>MIDAGE SINGLES/COUPLES</td>\n",
       "      <td>Budget</td>\n",
       "    </tr>\n",
       "    <tr>\n",
       "      <th>3</th>\n",
       "      <td>2018-08-17</td>\n",
       "      <td>2</td>\n",
       "      <td>2373</td>\n",
       "      <td>974</td>\n",
       "      <td>69</td>\n",
       "      <td>Smiths Chip Thinly  S/Cream&amp;Onion 175g</td>\n",
       "      <td>5</td>\n",
       "      <td>15.0</td>\n",
       "      <td>8</td>\n",
       "      <td>4</td>\n",
       "      <td>175</td>\n",
       "      <td>Smiths</td>\n",
       "      <td>MIDAGE SINGLES/COUPLES</td>\n",
       "      <td>Budget</td>\n",
       "    </tr>\n",
       "    <tr>\n",
       "      <th>4</th>\n",
       "      <td>2018-08-18</td>\n",
       "      <td>2</td>\n",
       "      <td>2426</td>\n",
       "      <td>1038</td>\n",
       "      <td>108</td>\n",
       "      <td>Kettle Tortilla ChpsHny&amp;Jlpno Chili 150g</td>\n",
       "      <td>3</td>\n",
       "      <td>13.8</td>\n",
       "      <td>8</td>\n",
       "      <td>5</td>\n",
       "      <td>150</td>\n",
       "      <td>Kettle</td>\n",
       "      <td>MIDAGE SINGLES/COUPLES</td>\n",
       "      <td>Budget</td>\n",
       "    </tr>\n",
       "  </tbody>\n",
       "</table>\n",
       "</div>"
      ],
      "text/plain": [
       "        DATE  STORE_NBR  LYLTY_CARD_NBR  TXN_ID  PROD_NBR  \\\n",
       "0 2018-10-17          1            1000       1         5   \n",
       "1 2019-05-14          1            1307     348        66   \n",
       "2 2019-05-20          1            1343     383        61   \n",
       "3 2018-08-17          2            2373     974        69   \n",
       "4 2018-08-18          2            2426    1038       108   \n",
       "\n",
       "                                  PROD_NAME  PROD_QTY  TOT_SALES  MONTH  \\\n",
       "0    Natural Chip        Compny SeaSalt175g         2        6.0     10   \n",
       "1                  CCs Nacho Cheese    175g         3        6.3      5   \n",
       "2    Smiths Crinkle Cut  Chips Chicken 170g         2        2.9      5   \n",
       "3    Smiths Chip Thinly  S/Cream&Onion 175g         5       15.0      8   \n",
       "4  Kettle Tortilla ChpsHny&Jlpno Chili 150g         3       13.8      8   \n",
       "\n",
       "   DAY_OF_WEEK  PACKET_SIZE   BRAND               LIFESTAGE PREMIUM_CUSTOMER  \n",
       "0            2          175     NCC   YOUNG SINGLES/COUPLES          Premium  \n",
       "1            1          175     CCs  MIDAGE SINGLES/COUPLES           Budget  \n",
       "2            0          170  Smiths  MIDAGE SINGLES/COUPLES           Budget  \n",
       "3            4          175  Smiths  MIDAGE SINGLES/COUPLES           Budget  \n",
       "4            5          150  Kettle  MIDAGE SINGLES/COUPLES           Budget  "
      ]
     },
     "execution_count": 199,
     "metadata": {},
     "output_type": "execute_result"
    }
   ],
   "source": [
    "df.head()"
   ]
  },
  {
   "cell_type": "code",
   "execution_count": 200,
   "id": "383d4d27",
   "metadata": {},
   "outputs": [
    {
     "data": {
      "text/plain": [
       "DATE                0\n",
       "STORE_NBR           0\n",
       "LYLTY_CARD_NBR      0\n",
       "TXN_ID              0\n",
       "PROD_NBR            0\n",
       "PROD_NAME           0\n",
       "PROD_QTY            0\n",
       "TOT_SALES           0\n",
       "MONTH               0\n",
       "DAY_OF_WEEK         0\n",
       "PACKET_SIZE         0\n",
       "BRAND               0\n",
       "LIFESTAGE           0\n",
       "PREMIUM_CUSTOMER    0\n",
       "dtype: int64"
      ]
     },
     "execution_count": 200,
     "metadata": {},
     "output_type": "execute_result"
    }
   ],
   "source": [
    "df.isnull().sum()"
   ]
  },
  {
   "cell_type": "code",
   "execution_count": 201,
   "id": "df323a8a",
   "metadata": {},
   "outputs": [],
   "source": [
    "df.to_csv('ChipTransactions.csv')"
   ]
  },
  {
   "cell_type": "markdown",
   "id": "4ebd69d0",
   "metadata": {},
   "source": [
    "# <a id='3'>3. Data Analysis </a>"
   ]
  },
  {
   "cell_type": "markdown",
   "id": "49656aa6",
   "metadata": {},
   "source": [
    "Before I commence analysis, I will state insights of interest that will serve as the basis to form a successful strategy for the following 6 months. I am interested in the following\n",
    "- Who spends the most on chips (total sales), describing customers by lifestage and how premium their general purchasing behaviour is\n",
    "- How many customers are in each segment\n",
    "- How many chips are bought per customer by segment\n",
    "- What's the average chip price by customer segment"
   ]
  },
  {
   "cell_type": "markdown",
   "id": "8f6b39eb",
   "metadata": {},
   "source": [
    "## <a id='3.1'> 3.1 Total Sales by customer segment</a>"
   ]
  },
  {
   "cell_type": "code",
   "execution_count": 202,
   "id": "56492d4e",
   "metadata": {},
   "outputs": [
    {
     "data": {
      "image/png": "[encoded data removed]",
      "text/plain": [
       "<Figure size 1008x360 with 2 Axes>"
      ]
     },
     "metadata": {
      "needs_background": "light"
     },
     "output_type": "display_data"
    }
   ],
   "source": [
    "ax, fig = plt.subplots(nrows=1, ncols=2, figsize=(14,5))\n",
    "plt.subplot(1,2,1)\n",
    "df.groupby('LIFESTAGE').sum()['TOT_SALES'].plot.bar()\n",
    "plt.subplot(1,2,2)\n",
    "df.groupby('PREMIUM_CUSTOMER').sum()['TOT_SALES'].plot.bar()\n",
    "plt.xticks(rotation=0)\n",
    "plt.show()\n",
    "# plt.show()"
   ]
  },
  {
   "cell_type": "markdown",
   "id": "f2be7656",
   "metadata": {},
   "source": [
    "Observation:\n",
    "- Overall, Older singles/couples spent the most money on chips followed by retirees and older families\n",
    "- In general, Mainstream customers bought in the most money on chips while Premium customers spent the least\n",
    "\n",
    "I would also check the purchasing behaviour in older singles/couples as well as Life stages of the mainstream customer to identify which part of these groups that spend the most money"
   ]
  },
  {
   "cell_type": "code",
   "execution_count": 203,
   "id": "f6e64d4d",
   "metadata": {},
   "outputs": [
    {
     "data": {
      "text/plain": [
       "<AxesSubplot:xlabel='LIFESTAGE'>"
      ]
     },
     "execution_count": 203,
     "metadata": {},
     "output_type": "execute_result"
    },
    {
     "data": {
      "image/png": "[encoded data removed]",
      "text/plain": [
       "<Figure size 1008x360 with 2 Axes>"
      ]
     },
     "metadata": {
      "needs_background": "light"
     },
     "output_type": "display_data"
    }
   ],
   "source": [
    "ax, fig = plt.subplots(nrows=1, ncols=2, figsize=(14,5))\n",
    "plt.subplot(1,2,1)\n",
    "df[df['LIFESTAGE'] == 'OLDER SINGLES/COUPLES'].groupby('PREMIUM_CUSTOMER').sum()['TOT_SALES'].plot.bar()\n",
    "plt.xticks(rotation=0)\n",
    "plt.subplot(1,2,2)\n",
    "df[df['PREMIUM_CUSTOMER'] == 'Mainstream'].groupby('LIFESTAGE').sum()['TOT_SALES'].plot.bar()"
   ]
  },
  {
   "cell_type": "markdown",
   "id": "9db02ed7",
   "metadata": {},
   "source": [
    "Observation: \n",
    "- Although the older singles/couples on a budget spent the most, all three spent almost the same amount on chips.\n",
    "- Young singles/couples and retirees both spent the most on chip in the mainstream category, with the former paying just slightly more than the latter.\n",
    "\n",
    "Finally I would get the total sales from every segments"
   ]
  },
  {
   "cell_type": "code",
   "execution_count": 204,
   "id": "867f7e96",
   "metadata": {},
   "outputs": [
    {
     "data": {
      "text/plain": [
       "<matplotlib.legend.Legend at 0x22dde75f460>"
      ]
     },
     "execution_count": 204,
     "metadata": {},
     "output_type": "execute_result"
    },
    {
     "data": {
      "image/png": "[encoded data removed]",
      "text/plain": [
       "<Figure size 1008x360 with 1 Axes>"
      ]
     },
     "metadata": {
      "needs_background": "light"
     },
     "output_type": "display_data"
    }
   ],
   "source": [
    "df.groupby(['PREMIUM_CUSTOMER', 'LIFESTAGE']).sum()['TOT_SALES'].unstack().plot.bar(figsize = (14,5))\n",
    "plt.legend(bbox_to_anchor=(1.05, 1), loc=2, borderaxespad=0)"
   ]
  },
  {
   "cell_type": "code",
   "execution_count": 205,
   "id": "e183ab7c",
   "metadata": {},
   "outputs": [
    {
     "data": {
      "text/plain": [
       "<matplotlib.legend.Legend at 0x22dda2d19d0>"
      ]
     },
     "execution_count": 205,
     "metadata": {},
     "output_type": "execute_result"
    },
    {
     "data": {
      "image/png": "[encoded data removed]",
      "text/plain": [
       "<Figure size 1008x360 with 1 Axes>"
      ]
     },
     "metadata": {
      "needs_background": "light"
     },
     "output_type": "display_data"
    }
   ],
   "source": [
    "df.groupby(['LIFESTAGE', 'PREMIUM_CUSTOMER']).sum()['TOT_SALES'].unstack().plot.bar(figsize = (14,5))\n",
    "plt.legend(bbox_to_anchor=(1.05, 1), loc=2, borderaxespad=0)"
   ]
  },
  {
   "cell_type": "markdown",
   "id": "23c49749",
   "metadata": {},
   "source": [
    "Observation:\n",
    "- Across all purchasing behaviours, new families spent the least, this could be due to the number of customers in this category\n",
    "- Overall, the customer segment spending the most was budget - older families, followed by mainstream - young singles/couples and mainstream - retirees\n",
    "- Also premium spent the least in all lifestage categories except the premium - midage singles/couples who spent more that their budget counterparts"
   ]
  },
  {
   "cell_type": "markdown",
   "id": "d677a064",
   "metadata": {},
   "source": [
    "## <a id='3.2'> 3.2 Customer Segment distribution</a>"
   ]
  },
  {
   "cell_type": "markdown",
   "id": "08895e6c",
   "metadata": {},
   "source": [
    "Let's get a dataframe containing all unique chip customers and their respective purchasing behaviour and lifestage"
   ]
  },
  {
   "cell_type": "code",
   "execution_count": 206,
   "id": "8f8f387e",
   "metadata": {},
   "outputs": [],
   "source": [
    "chip_customers = df['LYLTY_CARD_NBR'].unique()"
   ]
  },
  {
   "cell_type": "code",
   "execution_count": 207,
   "id": "91dab501",
   "metadata": {},
   "outputs": [],
   "source": [
    "def get_chip_customer(cus):\n",
    "    if cus in chip_customers:\n",
    "        return True\n",
    "    else:\n",
    "        return False"
   ]
  },
  {
   "cell_type": "code",
   "execution_count": 208,
   "id": "7c4b4d85",
   "metadata": {},
   "outputs": [],
   "source": [
    "chip_cust = cust[cust['LYLTY_CARD_NBR'].apply(get_chip_customer)]"
   ]
  },
  {
   "cell_type": "code",
   "execution_count": 209,
   "id": "4befae54",
   "metadata": {},
   "outputs": [
    {
     "data": {
      "text/plain": [
       "True"
      ]
     },
     "execution_count": 209,
     "metadata": {},
     "output_type": "execute_result"
    }
   ],
   "source": [
    "chip_cust.shape[0] == chip_df['LYLTY_CARD_NBR'].nunique()"
   ]
  },
  {
   "cell_type": "code",
   "execution_count": 210,
   "id": "85df3824",
   "metadata": {},
   "outputs": [
    {
     "data": {
      "text/plain": [
       "LIFESTAGE\n",
       "MIDAGE SINGLES/COUPLES     7141\n",
       "NEW FAMILIES               2492\n",
       "OLDER FAMILIES             9630\n",
       "OLDER SINGLES/COUPLES     14389\n",
       "RETIREES                  14555\n",
       "YOUNG FAMILIES             9036\n",
       "YOUNG SINGLES/COUPLES     14044\n",
       "Name: LYLTY_CARD_NBR, dtype: int64"
      ]
     },
     "execution_count": 210,
     "metadata": {},
     "output_type": "execute_result"
    }
   ],
   "source": [
    "chip_cust.groupby('LIFESTAGE').count()['LYLTY_CARD_NBR']"
   ]
  },
  {
   "cell_type": "code",
   "execution_count": 211,
   "id": "85321c88",
   "metadata": {},
   "outputs": [
    {
     "data": {
      "image/png": "[encoded data removed]",
      "text/plain": [
       "<Figure size 1008x360 with 2 Axes>"
      ]
     },
     "metadata": {
      "needs_background": "light"
     },
     "output_type": "display_data"
    }
   ],
   "source": [
    "ax, fig = plt.subplots(nrows=1, ncols=2, figsize=(14,5))\n",
    "plt.subplot(1,2,1)\n",
    "chip_cust.groupby('LIFESTAGE').count()['LYLTY_CARD_NBR'].plot.bar()\n",
    "\n",
    "plt.subplot(1,2,2)\n",
    "chip_cust.groupby('PREMIUM_CUSTOMER').count()['LYLTY_CARD_NBR'].plot.bar()\n",
    "plt.xticks(rotation=0)\n",
    "plt.show()"
   ]
  },
  {
   "cell_type": "code",
   "execution_count": 212,
   "id": "7bedfc46",
   "metadata": {},
   "outputs": [
    {
     "data": {
      "text/plain": [
       "<matplotlib.legend.Legend at 0x22dd8ce83a0>"
      ]
     },
     "execution_count": 212,
     "metadata": {},
     "output_type": "execute_result"
    },
    {
     "data": {
      "image/png": "[encoded data removed]",
      "text/plain": [
       "<Figure size 1008x360 with 1 Axes>"
      ]
     },
     "metadata": {
      "needs_background": "light"
     },
     "output_type": "display_data"
    }
   ],
   "source": [
    "chip_cust.groupby(['LIFESTAGE', 'PREMIUM_CUSTOMER']).count()['LYLTY_CARD_NBR'].unstack().plot.bar(figsize = (14,5))\n",
    "plt.legend(bbox_to_anchor=(1.05, 1), loc=2, borderaxespad=0)"
   ]
  },
  {
   "cell_type": "markdown",
   "id": "23adc43c",
   "metadata": {},
   "source": [
    "Observation:\n",
    "- Most chip customers were Mainstream - young singles/couples and retirees. This could be the driving force behind the high amount of money spent by these customer segments. \n",
    "- All purchasing behaviour for older singles/couples had about the same number of customers just behind the two biggest customer segments\n",
    "- budget - older families    Average price spent by customer "
   ]
  },
  {
   "cell_type": "markdown",
   "id": "2fdb0541",
   "metadata": {},
   "source": [
    "## <a id='3.3'> 3.3 Average quantity of chips by customer segment </a>"
   ]
  },
  {
   "cell_type": "code",
   "execution_count": 213,
   "id": "e3bff688",
   "metadata": {},
   "outputs": [],
   "source": [
    " = df.groupby(['LIFESTAGE', 'PREMIUM_CUSTOMER']).agg({'PROD_QTY': ['mean', 'sum']})\n",
    "qty_stat.columns = ['PROD_QTY_MEAN', 'PROD_QTY_SUM']"
   ]
  },
  {
   "cell_type": "code",
   "execution_count": 251,
   "id": "2c4a289b",
   "metadata": {},
   "outputs": [
    {
     "data": {
      "text/html": [
       "<div>\n",
       "<style scoped>\n",
       "    .dataframe tbody tr th:only-of-type {\n",
       "        vertical-align: middle;\n",
       "    }\n",
       "\n",
       "    .dataframe tbody tr th {\n",
       "        vertical-align: top;\n",
       "    }\n",
       "\n",
       "    .dataframe thead th {\n",
       "        text-align: right;\n",
       "    }\n",
       "</style>\n",
       "<table border=\"1\" class=\"dataframe\">\n",
       "  <thead>\n",
       "    <tr style=\"text-align: right;\">\n",
       "      <th></th>\n",
       "      <th>LIFESTAGE</th>\n",
       "      <th>PREMIUM_CUSTOMER</th>\n",
       "      <th>AVG_PROD_PER_COST</th>\n",
       "    </tr>\n",
       "  </thead>\n",
       "  <tbody>\n",
       "    <tr>\n",
       "      <th>7</th>\n",
       "      <td>OLDER FAMILIES</td>\n",
       "      <td>Mainstream</td>\n",
       "      <td>9.255380</td>\n",
       "    </tr>\n",
       "    <tr>\n",
       "      <th>6</th>\n",
       "      <td>OLDER FAMILIES</td>\n",
       "      <td>Budget</td>\n",
       "      <td>9.076773</td>\n",
       "    </tr>\n",
       "    <tr>\n",
       "      <th>8</th>\n",
       "      <td>OLDER FAMILIES</td>\n",
       "      <td>Premium</td>\n",
       "      <td>9.071717</td>\n",
       "    </tr>\n",
       "    <tr>\n",
       "      <th>15</th>\n",
       "      <td>YOUNG FAMILIES</td>\n",
       "      <td>Budget</td>\n",
       "      <td>8.722995</td>\n",
       "    </tr>\n",
       "    <tr>\n",
       "      <th>17</th>\n",
       "      <td>YOUNG FAMILIES</td>\n",
       "      <td>Premium</td>\n",
       "      <td>8.716013</td>\n",
       "    </tr>\n",
       "    <tr>\n",
       "      <th>16</th>\n",
       "      <td>YOUNG FAMILIES</td>\n",
       "      <td>Mainstream</td>\n",
       "      <td>8.638361</td>\n",
       "    </tr>\n",
       "    <tr>\n",
       "      <th>9</th>\n",
       "      <td>OLDER SINGLES/COUPLES</td>\n",
       "      <td>Budget</td>\n",
       "      <td>6.781398</td>\n",
       "    </tr>\n",
       "    <tr>\n",
       "      <th>11</th>\n",
       "      <td>OLDER SINGLES/COUPLES</td>\n",
       "      <td>Premium</td>\n",
       "      <td>6.769543</td>\n",
       "    </tr>\n",
       "    <tr>\n",
       "      <th>10</th>\n",
       "      <td>OLDER SINGLES/COUPLES</td>\n",
       "      <td>Mainstream</td>\n",
       "      <td>6.712021</td>\n",
       "    </tr>\n",
       "    <tr>\n",
       "      <th>1</th>\n",
       "      <td>MIDAGE SINGLES/COUPLES</td>\n",
       "      <td>Mainstream</td>\n",
       "      <td>6.432080</td>\n",
       "    </tr>\n",
       "    <tr>\n",
       "      <th>12</th>\n",
       "      <td>RETIREES</td>\n",
       "      <td>Budget</td>\n",
       "      <td>6.141847</td>\n",
       "    </tr>\n",
       "    <tr>\n",
       "      <th>14</th>\n",
       "      <td>RETIREES</td>\n",
       "      <td>Premium</td>\n",
       "      <td>6.103358</td>\n",
       "    </tr>\n",
       "    <tr>\n",
       "      <th>2</th>\n",
       "      <td>MIDAGE SINGLES/COUPLES</td>\n",
       "      <td>Premium</td>\n",
       "      <td>6.078514</td>\n",
       "    </tr>\n",
       "    <tr>\n",
       "      <th>0</th>\n",
       "      <td>MIDAGE SINGLES/COUPLES</td>\n",
       "      <td>Budget</td>\n",
       "      <td>6.026459</td>\n",
       "    </tr>\n",
       "    <tr>\n",
       "      <th>13</th>\n",
       "      <td>RETIREES</td>\n",
       "      <td>Mainstream</td>\n",
       "      <td>5.925920</td>\n",
       "    </tr>\n",
       "    <tr>\n",
       "      <th>4</th>\n",
       "      <td>NEW FAMILIES</td>\n",
       "      <td>Mainstream</td>\n",
       "      <td>4.891566</td>\n",
       "    </tr>\n",
       "    <tr>\n",
       "      <th>3</th>\n",
       "      <td>NEW FAMILIES</td>\n",
       "      <td>Budget</td>\n",
       "      <td>4.821527</td>\n",
       "    </tr>\n",
       "    <tr>\n",
       "      <th>5</th>\n",
       "      <td>NEW FAMILIES</td>\n",
       "      <td>Premium</td>\n",
       "      <td>4.815652</td>\n",
       "    </tr>\n",
       "    <tr>\n",
       "      <th>19</th>\n",
       "      <td>YOUNG SINGLES/COUPLES</td>\n",
       "      <td>Mainstream</td>\n",
       "      <td>4.575597</td>\n",
       "    </tr>\n",
       "    <tr>\n",
       "      <th>20</th>\n",
       "      <td>YOUNG SINGLES/COUPLES</td>\n",
       "      <td>Premium</td>\n",
       "      <td>4.264113</td>\n",
       "    </tr>\n",
       "    <tr>\n",
       "      <th>18</th>\n",
       "      <td>YOUNG SINGLES/COUPLES</td>\n",
       "      <td>Budget</td>\n",
       "      <td>4.250069</td>\n",
       "    </tr>\n",
       "  </tbody>\n",
       "</table>\n",
       "</div>"
      ],
      "text/plain": [
       "                 LIFESTAGE PREMIUM_CUSTOMER  AVG_PROD_PER_COST\n",
       "7           OLDER FAMILIES       Mainstream           9.255380\n",
       "6           OLDER FAMILIES           Budget           9.076773\n",
       "8           OLDER FAMILIES          Premium           9.071717\n",
       "15          YOUNG FAMILIES           Budget           8.722995\n",
       "17          YOUNG FAMILIES          Premium           8.716013\n",
       "16          YOUNG FAMILIES       Mainstream           8.638361\n",
       "9    OLDER SINGLES/COUPLES           Budget           6.781398\n",
       "11   OLDER SINGLES/COUPLES          Premium           6.769543\n",
       "10   OLDER SINGLES/COUPLES       Mainstream           6.712021\n",
       "1   MIDAGE SINGLES/COUPLES       Mainstream           6.432080\n",
       "12                RETIREES           Budget           6.141847\n",
       "14                RETIREES          Premium           6.103358\n",
       "2   MIDAGE SINGLES/COUPLES          Premium           6.078514\n",
       "0   MIDAGE SINGLES/COUPLES           Budget           6.026459\n",
       "13                RETIREES       Mainstream           5.925920\n",
       "4             NEW FAMILIES       Mainstream           4.891566\n",
       "3             NEW FAMILIES           Budget           4.821527\n",
       "5             NEW FAMILIES          Premium           4.815652\n",
       "19   YOUNG SINGLES/COUPLES       Mainstream           4.575597\n",
       "20   YOUNG SINGLES/COUPLES          Premium           4.264113\n",
       "18   YOUNG SINGLES/COUPLES           Budget           4.250069"
      ]
     },
     "execution_count": 251,
     "metadata": {},
     "output_type": "execute_result"
    }
   ],
   "source": [
    "qty_stat = df.groupby(['LIFESTAGE', 'PREMIUM_CUSTOMER']).PROD_QTY.sum() / df.groupby(['LIFESTAGE', 'PREMIUM_CUSTOMER']).LYLTY_CARD_NBR.nunique()\n",
    "qty_stat1 = qty_stat.reset_index()\n",
    "qty_stat1.columns = ['LIFESTAGE', 'PREMIUM_CUSTOMER', 'AVG_PROD_PER_COST']\n",
    "qty_stat1.sort_values(by='AVG_PROD_PER_COST', ascending=False)"
   ]
  },
  {
   "cell_type": "code",
   "execution_count": 253,
   "id": "2cf0f24b",
   "metadata": {},
   "outputs": [
    {
     "data": {
      "text/plain": [
       "<matplotlib.legend.Legend at 0x22ded405550>"
      ]
     },
     "execution_count": 253,
     "metadata": {},
     "output_type": "execute_result"
    },
    {
     "data": {
      "image/png": "[encoded data removed]",
      "text/plain": [
       "<Figure size 1008x360 with 1 Axes>"
      ]
     },
     "metadata": {
      "needs_background": "light"
     },
     "output_type": "display_data"
    }
   ],
   "source": [
    "qty_stat.unstack().plot.bar(figsize = (14,5))\n",
    "plt.legend(bbox_to_anchor=(1.05, 1), loc=2, borderaxespad=0)"
   ]
  },
  {
   "cell_type": "markdown",
   "id": "dfceefe0",
   "metadata": {},
   "source": [
    "Observation:\n",
    "- Older families and young families buy more  chips on average per transaction. This is the driving force for the amount sales brought in by budget - older families\n",
    "- Young singles/couples and new families buy the least amount of chips on average per transaction. We could speculate that this is a result of having little to no children in this group who enjoy chips more"
   ]
  },
  {
   "cell_type": "markdown",
   "id": "903f3199",
   "metadata": {},
   "source": [
    "## <a id='3.4' > 3.4 Average price spent by customer segment </a>"
   ]
  },
  {
   "cell_type": "code",
   "execution_count": 254,
   "id": "48a1a71e",
   "metadata": {},
   "outputs": [],
   "source": [
    "ppu_stat = df.groupby(['LIFESTAGE', 'PREMIUM_CUSTOMER']).sum()['TOT_SALES'] / df.groupby(['LIFESTAGE', 'PREMIUM_CUSTOMER']).sum()['PROD_QTY']"
   ]
  },
  {
   "cell_type": "code",
   "execution_count": 256,
   "id": "7f586d17",
   "metadata": {
    "scrolled": false
   },
   "outputs": [
    {
     "data": {
      "text/html": [
       "<div>\n",
       "<style scoped>\n",
       "    .dataframe tbody tr th:only-of-type {\n",
       "        vertical-align: middle;\n",
       "    }\n",
       "\n",
       "    .dataframe tbody tr th {\n",
       "        vertical-align: top;\n",
       "    }\n",
       "\n",
       "    .dataframe thead th {\n",
       "        text-align: right;\n",
       "    }\n",
       "</style>\n",
       "<table border=\"1\" class=\"dataframe\">\n",
       "  <thead>\n",
       "    <tr style=\"text-align: right;\">\n",
       "      <th></th>\n",
       "      <th>LIFESTAGE</th>\n",
       "      <th>PREMIUM_CUSTOMER</th>\n",
       "      <th>AVG_PRICE_PER_UNIT</th>\n",
       "    </tr>\n",
       "  </thead>\n",
       "  <tbody>\n",
       "    <tr>\n",
       "      <th>19</th>\n",
       "      <td>YOUNG SINGLES/COUPLES</td>\n",
       "      <td>Mainstream</td>\n",
       "      <td>4.074043</td>\n",
       "    </tr>\n",
       "    <tr>\n",
       "      <th>1</th>\n",
       "      <td>MIDAGE SINGLES/COUPLES</td>\n",
       "      <td>Mainstream</td>\n",
       "      <td>3.994449</td>\n",
       "    </tr>\n",
       "    <tr>\n",
       "      <th>4</th>\n",
       "      <td>NEW FAMILIES</td>\n",
       "      <td>Mainstream</td>\n",
       "      <td>3.935887</td>\n",
       "    </tr>\n",
       "    <tr>\n",
       "      <th>12</th>\n",
       "      <td>RETIREES</td>\n",
       "      <td>Budget</td>\n",
       "      <td>3.932731</td>\n",
       "    </tr>\n",
       "    <tr>\n",
       "      <th>3</th>\n",
       "      <td>NEW FAMILIES</td>\n",
       "      <td>Budget</td>\n",
       "      <td>3.931969</td>\n",
       "    </tr>\n",
       "    <tr>\n",
       "      <th>14</th>\n",
       "      <td>RETIREES</td>\n",
       "      <td>Premium</td>\n",
       "      <td>3.924037</td>\n",
       "    </tr>\n",
       "    <tr>\n",
       "      <th>11</th>\n",
       "      <td>OLDER SINGLES/COUPLES</td>\n",
       "      <td>Premium</td>\n",
       "      <td>3.897698</td>\n",
       "    </tr>\n",
       "    <tr>\n",
       "      <th>9</th>\n",
       "      <td>OLDER SINGLES/COUPLES</td>\n",
       "      <td>Budget</td>\n",
       "      <td>3.887529</td>\n",
       "    </tr>\n",
       "    <tr>\n",
       "      <th>5</th>\n",
       "      <td>NEW FAMILIES</td>\n",
       "      <td>Premium</td>\n",
       "      <td>3.886168</td>\n",
       "    </tr>\n",
       "    <tr>\n",
       "      <th>13</th>\n",
       "      <td>RETIREES</td>\n",
       "      <td>Mainstream</td>\n",
       "      <td>3.852986</td>\n",
       "    </tr>\n",
       "    <tr>\n",
       "      <th>10</th>\n",
       "      <td>OLDER SINGLES/COUPLES</td>\n",
       "      <td>Mainstream</td>\n",
       "      <td>3.822753</td>\n",
       "    </tr>\n",
       "    <tr>\n",
       "      <th>2</th>\n",
       "      <td>MIDAGE SINGLES/COUPLES</td>\n",
       "      <td>Premium</td>\n",
       "      <td>3.780823</td>\n",
       "    </tr>\n",
       "    <tr>\n",
       "      <th>15</th>\n",
       "      <td>YOUNG FAMILIES</td>\n",
       "      <td>Budget</td>\n",
       "      <td>3.761903</td>\n",
       "    </tr>\n",
       "    <tr>\n",
       "      <th>17</th>\n",
       "      <td>YOUNG FAMILIES</td>\n",
       "      <td>Premium</td>\n",
       "      <td>3.759232</td>\n",
       "    </tr>\n",
       "    <tr>\n",
       "      <th>0</th>\n",
       "      <td>MIDAGE SINGLES/COUPLES</td>\n",
       "      <td>Budget</td>\n",
       "      <td>3.753878</td>\n",
       "    </tr>\n",
       "    <tr>\n",
       "      <th>6</th>\n",
       "      <td>OLDER FAMILIES</td>\n",
       "      <td>Budget</td>\n",
       "      <td>3.747969</td>\n",
       "    </tr>\n",
       "    <tr>\n",
       "      <th>7</th>\n",
       "      <td>OLDER FAMILIES</td>\n",
       "      <td>Mainstream</td>\n",
       "      <td>3.736380</td>\n",
       "    </tr>\n",
       "    <tr>\n",
       "      <th>16</th>\n",
       "      <td>YOUNG FAMILIES</td>\n",
       "      <td>Mainstream</td>\n",
       "      <td>3.722439</td>\n",
       "    </tr>\n",
       "    <tr>\n",
       "      <th>8</th>\n",
       "      <td>OLDER FAMILIES</td>\n",
       "      <td>Premium</td>\n",
       "      <td>3.717703</td>\n",
       "    </tr>\n",
       "    <tr>\n",
       "      <th>20</th>\n",
       "      <td>YOUNG SINGLES/COUPLES</td>\n",
       "      <td>Premium</td>\n",
       "      <td>3.692889</td>\n",
       "    </tr>\n",
       "    <tr>\n",
       "      <th>18</th>\n",
       "      <td>YOUNG SINGLES/COUPLES</td>\n",
       "      <td>Budget</td>\n",
       "      <td>3.685297</td>\n",
       "    </tr>\n",
       "  </tbody>\n",
       "</table>\n",
       "</div>"
      ],
      "text/plain": [
       "                 LIFESTAGE PREMIUM_CUSTOMER  AVG_PRICE_PER_UNIT\n",
       "19   YOUNG SINGLES/COUPLES       Mainstream            4.074043\n",
       "1   MIDAGE SINGLES/COUPLES       Mainstream            3.994449\n",
       "4             NEW FAMILIES       Mainstream            3.935887\n",
       "12                RETIREES           Budget            3.932731\n",
       "3             NEW FAMILIES           Budget            3.931969\n",
       "14                RETIREES          Premium            3.924037\n",
       "11   OLDER SINGLES/COUPLES          Premium            3.897698\n",
       "9    OLDER SINGLES/COUPLES           Budget            3.887529\n",
       "5             NEW FAMILIES          Premium            3.886168\n",
       "13                RETIREES       Mainstream            3.852986\n",
       "10   OLDER SINGLES/COUPLES       Mainstream            3.822753\n",
       "2   MIDAGE SINGLES/COUPLES          Premium            3.780823\n",
       "15          YOUNG FAMILIES           Budget            3.761903\n",
       "17          YOUNG FAMILIES          Premium            3.759232\n",
       "0   MIDAGE SINGLES/COUPLES           Budget            3.753878\n",
       "6           OLDER FAMILIES           Budget            3.747969\n",
       "7           OLDER FAMILIES       Mainstream            3.736380\n",
       "16          YOUNG FAMILIES       Mainstream            3.722439\n",
       "8           OLDER FAMILIES          Premium            3.717703\n",
       "20   YOUNG SINGLES/COUPLES          Premium            3.692889\n",
       "18   YOUNG SINGLES/COUPLES           Budget            3.685297"
      ]
     },
     "execution_count": 256,
     "metadata": {},
     "output_type": "execute_result"
    }
   ],
   "source": [
    "ppu_stat1 = ppu_stat.reset_index()\n",
    "ppu_stat1.columns = ['LIFESTAGE', 'PREMIUM_CUSTOMER', 'AVG_PRICE_PER_UNIT']\n",
    "ppu_stat1.sort_values(by='AVG_PRICE_PER_UNIT', ascending=False)"
   ]
  },
  {
   "cell_type": "code",
   "execution_count": 218,
   "id": "450b5f2c",
   "metadata": {},
   "outputs": [
    {
     "data": {
      "text/plain": [
       "<matplotlib.legend.Legend at 0x22dd849b0a0>"
      ]
     },
     "execution_count": 218,
     "metadata": {},
     "output_type": "execute_result"
    },
    {
     "data": {
      "image/png": "[encoded data removed]",
      "text/plain": [
       "<Figure size 1008x360 with 1 Axes>"
      ]
     },
     "metadata": {
      "needs_background": "light"
     },
     "output_type": "display_data"
    }
   ],
   "source": [
    "ppu_stat.unstack().plot.bar(figsize = (14,5))\n",
    "plt.legend(bbox_to_anchor=(1.05, 1), loc=2, borderaxespad=0)"
   ]
  },
  {
   "cell_type": "markdown",
   "id": "b4ef61cd",
   "metadata": {},
   "source": [
    "Observation:\n",
    "- There appears to be a significant difference in average chip spending among different purchasing behaviors for both midage and young singles/couples, as the mainstream categories of both life stages accounted for the top two average spenders per transaction, whereas their budget and premium counterparts were the least average spenders.\n",
    "- Therefore, in comparison to their budget and premium peers, mainstream midage and young individuals and couples are more willing to pay more per packet of chips. This may be due to premium shoppers being more likely to buy healthy snacks and when they buy chips, this is mainly for entertainment purposes rather than their own consumption. This is also supported by there being fewer premium midage and young singles and couples buying chips compared to their mainstream counterparts."
   ]
  },
  {
   "cell_type": "markdown",
   "id": "d8dd89ab",
   "metadata": {},
   "source": [
    "## <a id='3.5' > 3.5 T-test evaluation </a>"
   ]
  },
  {
   "cell_type": "markdown",
   "id": "0f7f34a7",
   "metadata": {},
   "source": [
    "Since the difference between the mean values for premium - midage and young singles/couples and their budget and mainstream is small, I will perform a t-test to verify that these two data are statistically different."
   ]
  },
  {
   "cell_type": "code",
   "execution_count": 219,
   "id": "50455932",
   "metadata": {},
   "outputs": [],
   "source": [
    "main = df[((df['LIFESTAGE'] == 'MIDAGE SINGLES/COUPLES')|(df['LIFESTAGE'] == 'YOUNG SINGLES/COUPLES')) &\n",
    "          (df['PREMIUM_CUSTOMER'] == 'Mainstream')]"
   ]
  },
  {
   "cell_type": "code",
   "execution_count": 220,
   "id": "b9a99a85",
   "metadata": {},
   "outputs": [],
   "source": [
    "bud_pre = df[((df['LIFESTAGE'] == 'MIDAGE SINGLES/COUPLES')|(df['LIFESTAGE'] == 'YOUNG SINGLES/COUPLES')) &\n",
    "          (df['PREMIUM_CUSTOMER'] != 'Mainstream')]"
   ]
  },
  {
   "cell_type": "code",
   "execution_count": 221,
   "id": "dd2ce7ba",
   "metadata": {},
   "outputs": [
    {
     "data": {
      "text/plain": [
       "Ttest_indResult(statistic=33.200521751400586, pvalue=1.9916804791117584e-239)"
      ]
     },
     "execution_count": 221,
     "metadata": {},
     "output_type": "execute_result"
    }
   ],
   "source": [
    "ttest_ind(main['TOT_SALES'], bud_pre['TOT_SALES'])"
   ]
  },
  {
   "cell_type": "markdown",
   "id": "d8c95281",
   "metadata": {},
   "source": [
    "The t-test results in a p-value of -1.99e-239, i.e. the unit price for mainstream, young and mid-age singles and couples are significantly higher than that of budget or premium, young and midage singles and couples."
   ]
  },
  {
   "cell_type": "markdown",
   "id": "948d85ee",
   "metadata": {},
   "source": [
    "## <a id='3.6' > 3.6 Analyzing customer segment of interest </a> "
   ]
  },
  {
   "cell_type": "markdown",
   "id": "544ed593",
   "metadata": {},
   "source": [
    "Let's delve deeper into the various customer segments for more insight. To retain or increase sales, the supermarket may want to target customer segments that contribute the most to sales. I will examine both mainstream - young singles/couples and mainstream - midage singles/couples   For example, I would like to know if they prefer to buy a specific brand of chips."
   ]
  },
  {
   "cell_type": "code",
   "execution_count": 222,
   "id": "31fb80eb",
   "metadata": {},
   "outputs": [],
   "source": [
    "main_young = df[(df['LIFESTAGE'] == 'YOUNG SINGLES/COUPLES') & (df['PREMIUM_CUSTOMER'] == 'Mainstream')]"
   ]
  },
  {
   "cell_type": "code",
   "execution_count": 223,
   "id": "ce03d52c",
   "metadata": {},
   "outputs": [],
   "source": [
    "main_mid = df[(df['LIFESTAGE'] == 'MIDAGE SINGLES/COUPLES') & (df['PREMIUM_CUSTOMER'] == 'Mainstream')]"
   ]
  },
  {
   "cell_type": "markdown",
   "id": "292cc08d",
   "metadata": {},
   "source": [
    "### <a id='3.6.1' >3.6.1 Brand preference </a>"
   ]
  },
  {
   "cell_type": "code",
   "execution_count": 224,
   "id": "713221a8",
   "metadata": {},
   "outputs": [
    {
     "data": {
      "text/plain": [
       "Kettle       3844\n",
       "Doritos      2379\n",
       "Pringles     2315\n",
       "Smiths       1921\n",
       "Infuzions    1250\n",
       "Thins        1166\n",
       "Twisties      900\n",
       "Tostitos      890\n",
       "RRD           875\n",
       "Cobs          864\n",
       "GrnWves       646\n",
       "Tyrrells      619\n",
       "WW            479\n",
       "NCC           394\n",
       "Cheezels      346\n",
       "CCs           222\n",
       "Cheetos       166\n",
       "Sunbites      128\n",
       "French         78\n",
       "Burger         62\n",
       "Name: BRAND, dtype: int64"
      ]
     },
     "execution_count": 224,
     "metadata": {},
     "output_type": "execute_result"
    }
   ],
   "source": [
    "main_young['BRAND'].value_counts()"
   ]
  },
  {
   "cell_type": "code",
   "execution_count": 225,
   "id": "ef632e29",
   "metadata": {},
   "outputs": [
    {
     "data": {
      "text/plain": [
       "Kettle       2136\n",
       "Smiths       1276\n",
       "Doritos      1210\n",
       "Pringles     1159\n",
       "Infuzions     679\n",
       "Thins         635\n",
       "RRD           611\n",
       "Cobs          495\n",
       "Twisties      490\n",
       "Tostitos      479\n",
       "GrnWves       355\n",
       "WW            346\n",
       "Tyrrells      298\n",
       "NCC           271\n",
       "Cheezels      221\n",
       "CCs           159\n",
       "Cheetos       115\n",
       "Sunbites       69\n",
       "Burger         48\n",
       "French         43\n",
       "Name: BRAND, dtype: int64"
      ]
     },
     "execution_count": 225,
     "metadata": {},
     "output_type": "execute_result"
    }
   ],
   "source": [
    "main_mid['BRAND'].value_counts()"
   ]
  },
  {
   "cell_type": "code",
   "execution_count": 226,
   "id": "a9c62cca",
   "metadata": {},
   "outputs": [
    {
     "data": {
      "text/plain": [
       "<AxesSubplot:>"
      ]
     },
     "execution_count": 226,
     "metadata": {},
     "output_type": "execute_result"
    },
    {
     "data": {
      "image/png": "[encoded data removed]",
      "text/plain": [
       "<Figure size 1008x504 with 2 Axes>"
      ]
     },
     "metadata": {
      "needs_background": "light"
     },
     "output_type": "display_data"
    }
   ],
   "source": [
    "ax, fig = plt.subplots(nrows=1, ncols=2, figsize = (14,7))\n",
    "plt.subplot(1,2,1)\n",
    "main_young['BRAND'].value_counts().head().plot.bar()\n",
    "plt.subplot(1,2,2)\n",
    "main_mid['BRAND'].value_counts().head().plot.bar()"
   ]
  },
  {
   "cell_type": "markdown",
   "id": "7217f0a7",
   "metadata": {},
   "source": [
    "Observation:\n",
    "- Kettle, Doritos, and Pringles were the most popular brands among mainstream - young singles and couples.\n",
    "- Mainstream - midage singles/couples purchased Kettle brand followed by Smiths and Doritos more often than other brands"
   ]
  },
  {
   "cell_type": "markdown",
   "id": "dfad69ab",
   "metadata": {},
   "source": [
    "### <a id='3.6.2' >3.6.2 Packet size preference </a>"
   ]
  },
  {
   "cell_type": "code",
   "execution_count": 227,
   "id": "129170a8",
   "metadata": {},
   "outputs": [
    {
     "data": {
      "text/plain": [
       "175    4997\n",
       "150    3080\n",
       "134    2315\n",
       "110    2051\n",
       "170    1575\n",
       "330    1195\n",
       "165    1102\n",
       "380     626\n",
       "270     620\n",
       "210     576\n",
       "135     290\n",
       "250     280\n",
       "200     179\n",
       "190     148\n",
       "90      128\n",
       "160     128\n",
       "180      70\n",
       "70       63\n",
       "220      62\n",
       "125      59\n",
       "Name: PACKET_SIZE, dtype: int64"
      ]
     },
     "execution_count": 227,
     "metadata": {},
     "output_type": "execute_result"
    }
   ],
   "source": [
    "main_young['PACKET_SIZE'].value_counts()"
   ]
  },
  {
   "cell_type": "code",
   "execution_count": 228,
   "id": "2de14615",
   "metadata": {},
   "outputs": [
    {
     "data": {
      "text/plain": [
       "175    2975\n",
       "150    1777\n",
       "134    1159\n",
       "110    1124\n",
       "170     882\n",
       "330     668\n",
       "165     641\n",
       "270     343\n",
       "380     310\n",
       "210     307\n",
       "135     163\n",
       "250     147\n",
       "200     132\n",
       "190     116\n",
       "160     101\n",
       "90       69\n",
       "70       50\n",
       "220      48\n",
       "180      48\n",
       "125      35\n",
       "Name: PACKET_SIZE, dtype: int64"
      ]
     },
     "execution_count": 228,
     "metadata": {},
     "output_type": "execute_result"
    }
   ],
   "source": [
    "main_mid['PACKET_SIZE'].value_counts()"
   ]
  },
  {
   "cell_type": "code",
   "execution_count": 229,
   "id": "421f8a7d",
   "metadata": {},
   "outputs": [
    {
     "data": {
      "text/plain": [
       "<AxesSubplot:>"
      ]
     },
     "execution_count": 229,
     "metadata": {},
     "output_type": "execute_result"
    },
    {
     "data": {
      "image/png": "[encoded data removed]",
      "text/plain": [
       "<Figure size 1008x504 with 2 Axes>"
      ]
     },
     "metadata": {
      "needs_background": "light"
     },
     "output_type": "display_data"
    }
   ],
   "source": [
    "ax, fig = plt.subplots(nrows=1, ncols=2, figsize = (14,7))\n",
    "plt.subplot(1,2,1)\n",
    "main_young['PACKET_SIZE'].value_counts().head().plot.bar()\n",
    "plt.subplot(1,2,2)\n",
    "main_mid['PACKET_SIZE'].value_counts().head().plot.bar()"
   ]
  },
  {
   "cell_type": "markdown",
   "id": "e5c6242c",
   "metadata": {},
   "source": [
    "Observation:\n",
    "- The 175g, 150g and 134g chips were the top three most preferred sizes by both customer segments \n",
    "- The 175g sized chip was purchased about 5000 times by mainstream - young singles/couples, compared to little under 3000 times by midage - young singles/couples."
   ]
  },
  {
   "cell_type": "markdown",
   "id": "4c2eab63",
   "metadata": {},
   "source": [
    "## <a id='3.7' > 3.7 Additional Insights </a> "
   ]
  },
  {
   "cell_type": "code",
   "execution_count": 230,
   "id": "af932657",
   "metadata": {
    "scrolled": true
   },
   "outputs": [
    {
     "data": {
      "text/plain": [
       "12    21225\n",
       "3     21124\n",
       "7     21016\n",
       "8     20864\n",
       "5     20832\n",
       "10    20772\n",
       "1     20610\n",
       "6     20362\n",
       "11    20353\n",
       "9     20296\n",
       "4     20281\n",
       "2     19005\n",
       "Name: MONTH, dtype: int64"
      ]
     },
     "execution_count": 230,
     "metadata": {},
     "output_type": "execute_result"
    }
   ],
   "source": [
    "df['MONTH'].value_counts()"
   ]
  },
  {
   "cell_type": "markdown",
   "id": "a62ece24",
   "metadata": {},
   "source": [
    "Observation:\n",
    "- Chip sales were evenly distributed throughout the year, with holiday periods slightly outperforming the rest.\n",
    "- The second largest month for sales was March, which could be attributable to the Easter break, which falls around this time."
   ]
  },
  {
   "cell_type": "code",
   "execution_count": 231,
   "id": "2b609595",
   "metadata": {},
   "outputs": [
    {
     "data": {
      "text/plain": [
       "6    36109\n",
       "4    35704\n",
       "2    35347\n",
       "5    35152\n",
       "0    34975\n",
       "3    34843\n",
       "1    34610\n",
       "Name: DAY_OF_WEEK, dtype: int64"
      ]
     },
     "execution_count": 231,
     "metadata": {},
     "output_type": "execute_result"
    }
   ],
   "source": [
    "df['DAY_OF_WEEK'].value_counts()"
   ]
  },
  {
   "cell_type": "markdown",
   "id": "a5657058",
   "metadata": {},
   "source": [
    "Observation:\n",
    "- Sunday was the day of the week with the highest sales followed by friday although there was only a minor difference in sales among all the days of the weeks "
   ]
  },
  {
   "cell_type": "code",
   "execution_count": 232,
   "id": "98180785",
   "metadata": {},
   "outputs": [
    {
     "data": {
      "text/plain": [
       "<AxesSubplot:xlabel='PACKET_SIZE,BRAND'>"
      ]
     },
     "execution_count": 232,
     "metadata": {},
     "output_type": "execute_result"
    },
    {
     "data": {
      "image/png": "[encoded data removed]",
      "text/plain": [
       "<Figure size 1440x360 with 1 Axes>"
      ]
     },
     "metadata": {
      "needs_background": "light"
     },
     "output_type": "display_data"
    }
   ],
   "source": [
    "df.groupby(['PACKET_SIZE', 'BRAND']).count()['PROD_QTY'].sort_values(ascending=False).plot.bar(figsize = (20,5))"
   ]
  },
  {
   "cell_type": "markdown",
   "id": "dc72b42f",
   "metadata": {},
   "source": [
    "Observation:\n",
    "- The most preferred brand and size combination was 134g Pringles.\n",
    "- 175g and 150g kettle were the second most purchased brand - size combination"
   ]
  },
  {
   "cell_type": "markdown",
   "id": "0779308f",
   "metadata": {},
   "source": [
    "# <a id='4'>4. Conclusion and Recommendation </a>"
   ]
  },
  {
   "cell_type": "markdown",
   "id": "5d7aa50f",
   "metadata": {},
   "source": [
    "## <a id='4.1' > 4.1 Conclusion </a> "
   ]
  },
  {
   "cell_type": "markdown",
   "id": "36a5a91d",
   "metadata": {},
   "source": [
    "Budget - older families were the highest-spending consumer segment, followed by mainstream - young singles/couples and mainstream - retirees. However, the high revenue generated from mainstream - young singles/couples was owing to its bigger customer size  compared to budget - elderly families who had a relatively smaller number of customers.\n",
    "\n",
    "Families also tend to buy more chips on average than any other customer segment, with the exception of new families. Furthermore, mainstream singles and couples, both young and middle-aged, spent substantially more on average than premium and budget counterparts.\n",
    "\n",
    "Finally, Kettle was by far the most preferred brand, with the 175g size chips being the most popular."
   ]
  },
  {
   "cell_type": "markdown",
   "id": "76dd80e0",
   "metadata": {},
   "source": [
    "## <a id='4.2' > 4.2 Recommendation </a> "
   ]
  },
  {
   "cell_type": "markdown",
   "id": "da92c959",
   "metadata": {},
   "source": [
    "Mainstream - young and middle-aged singles/couples are the average biggest spenders, thus I recommend that the supermarket concentrate on growing this consumer segment in the second half of the year to increase sales. Furthermore, I suggest that the supermarket add more Kettle brand chips to their stock, as well as the 175g sized chip, due to the huge demand for this brand of chip among mainstream - young and middle-aged singles and couples."
   ]
  }
 ],
 "metadata": {
  "kernelspec": {
   "display_name": "Python 3",
   "language": "python",
   "name": "python3"
  },
  "language_info": {
   "codemirror_mode": {
    "name": "ipython",
    "version": 3
   },
   "file_extension": ".py",
   "mimetype": "text/x-python",
   "name": "python",
   "nbconvert_exporter": "python",
   "pygments_lexer": "ipython3",
   "version": "3.8.8"
  }
 },
 "nbformat": 4,
 "nbformat_minor": 5
}
